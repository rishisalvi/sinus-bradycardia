{
  "nbformat": 4,
  "nbformat_minor": 0,
  "metadata": {
    "colab": {
      "provenance": []
    },
    "kernelspec": {
      "name": "python3",
      "display_name": "Python 3"
    },
    "language_info": {
      "name": "python"
    }
  },
  "cells": [
    {
      "cell_type": "code",
      "execution_count": null,
      "metadata": {
        "id": "4dQ5Kz9MkfoG",
        "colab": {
          "base_uri": "https://localhost:8080/"
        },
        "outputId": "effe50b0-24e8-439b-aca6-d9d93b8ea4d3"
      },
      "outputs": [
        {
          "output_type": "stream",
          "name": "stdout",
          "text": [
            "        mean       max       min  STD (signal)   STD (R-R)       RMSSD  \\\n",
            "0   0.000002  0.264222 -0.146840      0.052218   10.642913   12.472191   \n",
            "1  -0.000425  0.349692 -0.060334      0.057012   73.132843   96.871704   \n",
            "2  -0.000021  0.344289 -0.075447      0.057269   17.984905   20.514223   \n",
            "3   0.001071  0.270232 -0.093210      0.054338   18.279535   17.638342   \n",
            "4   0.000258  0.337484 -0.042719      0.056756   49.566018   57.324612   \n",
            "5   0.000503  0.389114 -0.050961      0.062712   37.982348   56.568542   \n",
            "6   0.000555  0.361438 -0.051521      0.063201   19.204873   27.462095   \n",
            "7   0.001126  0.272433 -0.147107      0.081418  245.356883  235.409808   \n",
            "8  -0.001180  0.349787 -0.077030      0.062845   10.408330   13.488678   \n",
            "9  -0.000208  0.376520 -0.106698      0.066427   80.822268   33.059481   \n",
            "10  0.000046  0.308877 -0.062754      0.056206   52.821619   56.371782   \n",
            "11 -0.001577  0.436473 -0.204926      0.077799   33.734954   32.875646   \n",
            "12  0.000905  0.266586 -0.131644      0.056123   10.610199    8.721719   \n",
            "13 -0.000288  0.207843 -0.067381      0.036298   24.431241   22.110832   \n",
            "14 -0.001161  0.411592 -0.078737      0.079823   14.539464   13.228757   \n",
            "15  0.000515  0.365398 -0.072839      0.059787   13.517250   17.280368   \n",
            "16  0.000120  0.451376 -0.063185      0.080930   25.619595   26.624967   \n",
            "17  0.000551  0.323636 -0.058526      0.054249   16.832508   16.832508   \n",
            "18  0.000180  0.382239 -0.057134      0.064362   25.266259   29.401436   \n",
            "19 -0.000885  0.308135 -0.115070      0.061088   43.017367   47.153545   \n",
            "20 -0.000044  0.361450 -0.072589      0.072679   80.012345   85.843671   \n",
            "21 -0.000188  0.304207 -0.092629      0.052179   32.021818   36.340541   \n",
            "22  0.000159  0.320976 -0.068130      0.057807   19.863733   26.105200   \n",
            "23 -0.001095  0.219139 -0.162029      0.067347   71.013388   83.266640   \n",
            "24 -0.000008  0.353091 -0.074277      0.060594   52.044615   82.252247   \n",
            "25  0.001274  0.352748 -0.113705      0.064494   47.826203   69.801305   \n",
            "26  0.000461  0.255867 -0.051353      0.041402   16.540261   14.401646   \n",
            "27 -0.000761  0.138430 -0.256661      0.052772   19.293062   27.613403   \n",
            "28 -0.000439  0.351203 -0.056899      0.058646   39.840591   59.264004   \n",
            "29  0.000011  0.264660 -0.180575      0.076445   40.997659   38.369548   \n",
            "30  0.000892  0.387280 -0.086881      0.056721   27.196133   39.242834   \n",
            "31  0.000299  0.321813 -0.057283      0.049733   16.565167   26.367368   \n",
            "32 -0.001315  0.261157 -0.249437      0.051976   39.520941   39.821028   \n",
            "33  0.004337  0.615740 -0.117782      0.096691   20.092379   28.414915   \n",
            "34 -0.000814  0.300499 -0.134073      0.045523  247.141685  234.952714   \n",
            "35  0.001505  0.356709 -0.067461      0.066560   32.829526   48.857313   \n",
            "36 -0.001336  0.498835 -0.213424      0.091249   30.654242   47.659507   \n",
            "37  0.000748  0.404735 -0.224395      0.090267   19.860625   24.358435   \n",
            "38 -0.000080  0.378564 -0.065475      0.061884   13.471506   11.941214   \n",
            "39  0.001151  0.384664 -0.070377      0.053999   39.317087   43.296688   \n",
            "40  0.000630  0.382362 -0.110853      0.095320   24.699249   17.373884   \n",
            "41 -0.000301  0.340089 -0.080286      0.050387  225.319389  268.250505   \n",
            "42  0.001027  0.233948 -0.409816      0.088295   47.540709   49.377072   \n",
            "43 -0.001302  0.313049 -0.091480      0.058468   12.963624   16.134357   \n",
            "44  0.000687  0.208286 -0.389354      0.068210  287.477627  376.828874   \n",
            "45  0.000283  0.172847 -0.052541      0.026420  465.668789  522.120220   \n",
            "46  0.000901  0.298349 -0.061665      0.047006   32.191762   38.276355   \n",
            "47 -0.003318  0.183254 -0.477288      0.057721   31.972210   50.018515   \n",
            "48 -0.000130  0.348237 -0.227567      0.072509   15.378815   21.815727   \n",
            "49  0.004308  0.524469 -0.086810      0.073461   75.212661   70.440789   \n",
            "50 -0.000299  0.370422 -0.051880      0.061602   49.249929   74.966659   \n",
            "51 -0.001901  0.378959 -0.111825      0.068186   18.808770   26.246693   \n",
            "52  0.000074  0.382085 -0.074366      0.064778   32.877840   48.591266   \n",
            "53  0.000519  0.357990 -0.056581      0.067916   18.687064   17.994708   \n",
            "54  0.000254  0.255349 -0.126785      0.046724   72.844692   96.282763   \n",
            "\n",
            "             HF           LF        HFLF        TP   max R-R     min R-R  \\\n",
            "0    970.000000   933.333333   10.000000  0.000035  0.004079  115.339227   \n",
            "1   1136.666667   926.666667   95.833333  0.000028  0.003199  115.671534   \n",
            "2   1013.333333   960.000000   20.000000  0.000010  0.002717  278.441461   \n",
            "3    826.666667   770.000000   26.666667  0.000027  0.004465  163.553254   \n",
            "4    940.000000   803.333333   83.333333  0.000020  0.002045  100.553618   \n",
            "5   1080.000000   976.666667   63.333333  0.000033  0.003758  114.784037   \n",
            "6    983.333333   923.333333   20.000000  0.000037  0.004613  124.852214   \n",
            "7   1013.333333   423.333333  488.333333  0.001165  0.005183    4.450123   \n",
            "8    986.666667   956.666667   13.333333  0.000018  0.004539  256.953940   \n",
            "9    880.000000   640.000000  103.333333  0.000011  0.000805   71.536827   \n",
            "10  1000.000000   830.000000   77.500000  0.000004  0.001022  266.198817   \n",
            "11   853.333333   740.000000   42.500000  0.000022  0.003257  150.599780   \n",
            "12   676.666667   633.333333   12.500000  0.000725  0.012376   17.073440   \n",
            "13   816.666667   726.666667   34.166667  0.000121  0.011238   92.767212   \n",
            "14   723.333333   670.000000   16.666667  0.000087  0.004638   53.480085   \n",
            "15   980.000000   933.333333    6.666667  0.000090  0.006595   72.910385   \n",
            "16   870.000000   783.333333   31.666667  0.000038  0.006339  167.369882   \n",
            "17   960.000000   906.666667   16.666667  0.000013  0.001141   87.045061   \n",
            "18   813.333333   750.000000   45.000000  0.000031  0.005626  179.068698   \n",
            "19   970.000000   823.333333   19.166667  0.000080  0.005962   74.534840   \n",
            "20  1020.000000   763.333333   95.000000  0.000006  0.001599  287.549568   \n",
            "21  1046.666667   946.666667   38.333333  0.000008  0.001024  121.190888   \n",
            "22   923.333333   863.333333   23.333333  0.000019  0.005060  260.174101   \n",
            "23  1090.000000   856.666667   80.000000  0.000025  0.006779  275.160929   \n",
            "24   966.666667   796.666667   55.833333  0.000082  0.016872  205.638461   \n",
            "25   990.000000   840.000000   66.666667  0.000220  0.017001   77.451745   \n",
            "26   876.666667   826.666667   23.333333  0.000054  0.002781   51.078804   \n",
            "27   933.333333   876.666667   30.000000  0.000076  0.007143   93.730296   \n",
            "28   873.333333   736.666667   33.333333  0.000146  0.016167  110.839618   \n",
            "29   913.333333   763.333333   36.666667  0.000010  0.001891  189.791552   \n",
            "30  1360.000000  1283.333333   26.666667  0.000067  0.002750   41.173401   \n",
            "31  1200.000000  1153.333333   18.333333  0.000022  0.005675  259.714979   \n",
            "32  1176.666667  1063.333333   57.500000  0.000010  0.002045  207.745434   \n",
            "33  1220.000000  1156.666667   18.333333  0.000026  0.003357  129.142471   \n",
            "34  1113.333333   463.333333   16.666667  0.000047  0.007858  166.973581   \n",
            "35  1233.333333  1143.333333   41.666667  0.000075  0.009826  131.373684   \n",
            "36  1176.666667  1086.666667   40.000000  0.000013  0.003350  261.594868   \n",
            "37  1236.666667  1186.666667   21.666667  0.000020  0.000900   44.923909   \n",
            "38  1286.666667  1250.000000   16.666667  0.000006  0.000587  104.123363   \n",
            "39  1130.000000  1003.333333   11.666667  0.000082  0.004779   58.341283   \n",
            "40  1153.333333  1093.333333   33.333333  0.000008  0.000786   99.595674   \n",
            "41  1120.000000   476.666667   93.333333  0.000530  0.012013   22.663853   \n",
            "42  1263.333333  1116.666667   55.000000  0.000033  0.007806  238.308924   \n",
            "43  1110.000000  1073.333333   16.666667  0.000017  0.001884  112.886422   \n",
            "44  1406.666667   653.333333  253.333333  0.000068  0.002826   41.577269   \n",
            "45  1496.666667   430.000000  874.166667  0.000045  0.004079   90.032724   \n",
            "46  1170.000000  1073.333333   34.166667  0.000006  0.001589  252.608153   \n",
            "47  1226.666667  1140.000000   46.666667  0.000024  0.003076  127.659793   \n",
            "48  1216.666667  1176.666667   21.666667  0.000010  0.001242  127.992748   \n",
            "49  1176.666667   946.666667  103.333333  0.000022  0.002379  110.248105   \n",
            "50  1406.666667  1280.000000   59.166667  0.000011  0.001665  152.135778   \n",
            "51  1126.666667  1076.666667   33.333333  0.000024  0.006230  257.253512   \n",
            "52  1196.666667  1100.000000   41.666667  0.000033  0.004546  135.845726   \n",
            "53  1170.000000  1116.666667   22.500000  0.000007  0.000339   48.706915   \n",
            "54  1250.000000  1043.333333   88.333333  0.000013  0.001838  144.886491   \n",
            "\n",
            "    IQR of R-R        BPM  avg. QRS complex  avg. ST segment  \\\n",
            "0     0.004114  62.992302         21.400000        42.900000   \n",
            "1     0.003227  58.056091         29.666667        36.000000   \n",
            "2     0.002727  60.644805         18.200000        49.200000   \n",
            "3     0.004492  75.175273         34.583333        26.916667   \n",
            "4     0.002065  68.329073         32.300000        35.200000   \n",
            "5     0.003790  58.149530         30.000000        28.777778   \n",
            "6     0.004650  62.786786         29.300000        31.100000   \n",
            "7     0.006349  90.411148         38.909091        26.000000   \n",
            "8     0.004556  61.509055         28.900000        31.700000   \n",
            "9     0.000816  83.226229         31.538462        24.384615   \n",
            "10    0.001026  66.116180         19.454545        39.090909   \n",
            "11    0.003279  75.219243         39.461538        27.384615   \n",
            "12    0.013102  91.790776         20.933333        30.200000   \n",
            "13    0.011359  78.526768         60.461538        10.444444   \n",
            "14    0.004725  86.667089         27.285714        32.285714   \n",
            "15    0.006685  62.996083         21.600000        42.700000   \n",
            "16    0.006377  73.665759         44.500000         4.833333   \n",
            "17    0.001154  63.846390         47.700000        28.600000   \n",
            "18    0.005657  76.132219         23.916667        36.083333   \n",
            "19    0.006042  63.928714         34.090909        41.636364   \n",
            "20    0.001604  66.911957         21.727273        44.818182   \n",
            "21    0.001033  60.249287         18.111111        43.000000   \n",
            "22    0.005080  67.141463         23.727273        37.363636   \n",
            "23    0.006804  60.844278         21.100000        46.100000   \n",
            "24    0.016955  67.353973         19.909091        36.000000   \n",
            "25    0.017222  64.441848         20.300000        35.500000   \n",
            "26    0.002835  70.554629         40.000000        15.636364   \n",
            "27    0.007219  65.958024         32.400000        46.900000   \n",
            "28    0.016313  74.732044         37.666667        21.500000   \n",
            "29    0.001901  71.161339         25.666667        33.083333   \n",
            "30    0.002817  45.449143         51.857143        26.142857   \n",
            "31    0.005697  50.873289         32.444444        22.625000   \n",
            "32    0.002055  53.305877         13.666667        44.555556   \n",
            "33    0.003383  50.572639         48.857143        22.500000   \n",
            "34    0.007905  54.403362         19.600000        32.111111   \n",
            "35    0.009901  50.024448         20.000000        41.625000   \n",
            "36    0.003363  53.597495         38.666667        40.555556   \n",
            "37    0.000920  49.122649         19.714286        34.714286   \n",
            "38    0.000593  47.372441         31.750000        36.250000   \n",
            "39    0.004861  54.707507         24.888889        39.111111   \n",
            "40    0.000794  53.636374         37.500000        27.375000   \n",
            "41    0.012545  57.316215         44.500000        12.200000   \n",
            "42    0.007839  51.547915         11.444444         4.333333   \n",
            "43    0.001901  55.157347         37.333333        27.444444   \n",
            "44    0.002894  59.579227         33.750000        54.750000   \n",
            "45    0.004125  78.052512         66.444444        15.428571   \n",
            "46    0.001595  53.466461         17.000000        48.625000   \n",
            "47    0.003100  50.443180         44.500000        24.714286   \n",
            "48    0.001252  50.205437         29.625000        30.625000   \n",
            "49    0.002401  56.360334         27.777778        33.000000   \n",
            "50    0.001676  44.214316         37.428571        30.714286   \n",
            "51    0.006254  54.208683         22.444444        45.555556   \n",
            "52    0.004580  52.268941         21.750000        42.625000   \n",
            "53    0.000346  52.565659         33.666667        34.875000   \n",
            "54    0.001851  53.373247         19.750000        40.500000   \n",
            "\n",
            "    avg. PR interval  avg. QT interval  label  \n",
            "0          48.700000        100.700000    0.0  \n",
            "1          48.555556        106.444444    0.0  \n",
            "2          44.777778        106.900000    0.0  \n",
            "3          41.416667         95.083333    0.0  \n",
            "4          34.400000        106.800000    0.0  \n",
            "5          50.555556         98.222222    0.0  \n",
            "6          45.400000         97.800000    0.0  \n",
            "7          40.181818         89.090909    0.0  \n",
            "8          41.200000        103.000000    0.0  \n",
            "9          30.153846         88.615385    0.0  \n",
            "10         43.090909         98.090909    0.0  \n",
            "11         41.583333        100.384615    0.0  \n",
            "12         48.600000         89.800000    0.0  \n",
            "13         47.916667         92.100000    0.0  \n",
            "14         38.142857         97.214286    0.0  \n",
            "15         47.400000        106.200000    0.0  \n",
            "16         47.750000         59.750000    0.0  \n",
            "17         34.900000        119.300000    0.0  \n",
            "18         44.666667         93.000000    0.0  \n",
            "19         35.818182        116.272727    0.0  \n",
            "20         44.727273        103.363636    0.0  \n",
            "21         33.888889         96.666667    0.0  \n",
            "22         37.909091         92.909091    0.0  \n",
            "23         44.500000        105.800000    0.0  \n",
            "24         38.818182         90.636364    0.0  \n",
            "25         51.800000         99.400000    0.0  \n",
            "26         38.545455         87.545455    0.0  \n",
            "27         27.600000        117.600000    0.0  \n",
            "28         35.833333         80.250000    0.0  \n",
            "29         43.636364         97.333333    0.0  \n",
            "30         63.285714        127.000000    1.0  \n",
            "31         61.125000        114.555556    1.0  \n",
            "32         64.875000         98.333333    1.0  \n",
            "33         46.428571         78.750000    1.0  \n",
            "34         49.111111         85.800000    1.0  \n",
            "35         49.875000        103.750000    1.0  \n",
            "36         63.777778        127.555556    1.0  \n",
            "37         45.857143         98.000000    1.0  \n",
            "38         55.571429        109.500000    1.0  \n",
            "39         48.888889        100.444444    1.0  \n",
            "40         46.875000        104.500000    1.0  \n",
            "41         44.600000         78.300000    1.0  \n",
            "42         60.888889         80.000000    1.0  \n",
            "43         41.000000        111.888889    1.0  \n",
            "44         55.750000        125.250000    1.0  \n",
            "45         31.714286         90.000000    1.0  \n",
            "46         47.714286        107.555556    1.0  \n",
            "47         65.714286        110.000000    1.0  \n",
            "48         70.875000         99.500000    1.0  \n",
            "49         52.555556         97.333333    1.0  \n",
            "50         44.714286        111.142857    1.0  \n",
            "51         48.333333         99.777778    1.0  \n",
            "52         56.625000        103.875000    1.0  \n",
            "53         53.875000        106.666667    1.0  \n",
            "54         57.750000         94.625000    1.0  \n"
          ]
        }
      ],
      "source": [
        "import pandas as pd\n",
        "df = pd.read_csv(\"/content/patients.csv\")\n",
        "print(df)"
      ]
    },
    {
      "cell_type": "markdown",
      "source": [
        "# New Section"
      ],
      "metadata": {
        "id": "M3CGVigBB-tr"
      }
    },
    {
      "cell_type": "code",
      "source": [
        "from sklearn.model_selection import train_test_split\n",
        "from sklearn.model_selection import cross_val_score\n",
        "from sklearn.model_selection import StratifiedKFold\n",
        "from sklearn.metrics import classification_report\n",
        "from sklearn.metrics import confusion_matrix\n",
        "from sklearn.metrics import accuracy_score\n",
        "from sklearn.linear_model import LogisticRegression\n",
        "from sklearn.tree import DecisionTreeClassifier\n",
        "from sklearn.neighbors import KNeighborsClassifier\n",
        "from sklearn.discriminant_analysis import LinearDiscriminantAnalysis\n",
        "from sklearn.naive_bayes import GaussianNB\n",
        "from sklearn.svm import SVC\n",
        "import matplotlib.pyplot as plt"
      ],
      "metadata": {
        "id": "P8dm69IiUpNv"
      },
      "execution_count": null,
      "outputs": []
    },
    {
      "cell_type": "code",
      "source": [
        "array = df.values\n",
        "print(array)\n",
        "X = array[:,0:18]\n",
        "y = array[:,18]\n",
        "#print(X, y)\n",
        "print(y)\n",
        "X_train, X_validation, Y_train, Y_validation = train_test_split(X, y, test_size=0.20, random_state=1,stratify=y)"
      ],
      "metadata": {
        "colab": {
          "base_uri": "https://localhost:8080/"
        },
        "id": "VVwrd_o2UqBl",
        "outputId": "6ca64f36-63ac-4ea4-b822-e7cc8227a587"
      },
      "execution_count": null,
      "outputs": [
        {
          "output_type": "stream",
          "name": "stdout",
          "text": [
            "[[ 2.06485010e-06  2.64222155e-01 -1.46840388e-01 ...  4.87000000e+01\n",
            "   1.00700000e+02  0.00000000e+00]\n",
            " [-4.24779376e-04  3.49692395e-01 -6.03335390e-02 ...  4.85555556e+01\n",
            "   1.06444444e+02  0.00000000e+00]\n",
            " [-2.07370663e-05  3.44289162e-01 -7.54469131e-02 ...  4.47777778e+01\n",
            "   1.06900000e+02  0.00000000e+00]\n",
            " ...\n",
            " [ 7.44500602e-05  3.82084802e-01 -7.43655550e-02 ...  5.66250000e+01\n",
            "   1.03875000e+02  1.00000000e+00]\n",
            " [ 5.18585468e-04  3.57990261e-01 -5.65807696e-02 ...  5.38750000e+01\n",
            "   1.06666667e+02  1.00000000e+00]\n",
            " [ 2.53939057e-04  2.55349044e-01 -1.26784634e-01 ...  5.77500000e+01\n",
            "   9.46250000e+01  1.00000000e+00]]\n",
            "[0. 0. 0. 0. 0. 0. 0. 0. 0. 0. 0. 0. 0. 0. 0. 0. 0. 0. 0. 0. 0. 0. 0. 0.\n",
            " 0. 0. 0. 0. 0. 0. 1. 1. 1. 1. 1. 1. 1. 1. 1. 1. 1. 1. 1. 1. 1. 1. 1. 1.\n",
            " 1. 1. 1. 1. 1. 1. 1.]\n"
          ]
        }
      ]
    },
    {
      "cell_type": "code",
      "source": [
        "models = []\n",
        "models.append(('LR', LogisticRegression(solver='liblinear', multi_class='ovr')))\n",
        "#models.append(('LDA', LinearDiscriminantAnalysis()))\n",
        "models.append(('LDA', LinearDiscriminantAnalysis(solver='svd', shrinkage=None, priors=None, n_components=None, store_covariance=False, tol=0.0001)))\n",
        "models.append(('KNN', KNeighborsClassifier()))\n",
        "#models.append(('CART', DecisionTreeClassifier()))\n",
        "models.append(('CART', DecisionTreeClassifier(criterion='gini', max_depth=None, min_samples_split=2, min_samples_leaf=1)))\n",
        "#models.append(('NB', GaussianNB()))\n",
        "models.append(('NB', GaussianNB(var_smoothing=1e-09, priors=None)))\n",
        "models.append(('SVM', SVC(gamma='auto', degree = 2, kernel = \"poly\")))"
      ],
      "metadata": {
        "id": "BQrBX8u2Us8C"
      },
      "execution_count": null,
      "outputs": []
    },
    {
      "cell_type": "code",
      "source": [
        "import sklearn.metrics\n",
        "import time\n",
        "results = []\n",
        "names = []\n",
        "print(sklearn.metrics.get_scorer_names())\n",
        "for name, model in models:\n",
        "\tstart_time = time.time();\n",
        "\tkfold = StratifiedKFold(n_splits=10, random_state=1, shuffle=True)\n",
        "\tcv_results = cross_val_score(model, X_train, Y_train, cv=kfold, scoring='accuracy')\n",
        "\tif name == 'KNN':\n",
        "\t\ty_score = cv_results\n",
        "\tresults.append(cv_results)\n",
        "\tnames.append(name)\n",
        "\tprint('%s: %.3f (%.3f)' % (name, cv_results.mean(), cv_results.std()))\n",
        "\tcv_results = cross_val_score(model, X_train, Y_train, cv=kfold, scoring='precision')\n",
        "\tprint('%s: %.3f' % (name, cv_results.mean()))\n",
        "\tcv_results = cross_val_score(model, X_train, Y_train, cv=kfold, scoring='recall')\n",
        "\tprint('%s: %.3f' % (name, cv_results.mean()))\n",
        "\tcv_results = cross_val_score(model, X_train, Y_train, cv=kfold, scoring='f1')\n",
        "\tprint('%s: %.3f' % (name, cv_results.mean()))\n",
        "\tend_time = time.time()\n",
        "\telapsed = end_time - start_time\n",
        "\tprint('%s: %.4f' % (name, elapsed))"
      ],
      "metadata": {
        "colab": {
          "base_uri": "https://localhost:8080/"
        },
        "id": "wpfYIksLUzZJ",
        "outputId": "ea29fd10-1810-41fd-8c31-1cda972ec82c"
      },
      "execution_count": null,
      "outputs": [
        {
          "output_type": "stream",
          "name": "stdout",
          "text": [
            "['accuracy', 'adjusted_mutual_info_score', 'adjusted_rand_score', 'average_precision', 'balanced_accuracy', 'completeness_score', 'explained_variance', 'f1', 'f1_macro', 'f1_micro', 'f1_samples', 'f1_weighted', 'fowlkes_mallows_score', 'homogeneity_score', 'jaccard', 'jaccard_macro', 'jaccard_micro', 'jaccard_samples', 'jaccard_weighted', 'matthews_corrcoef', 'max_error', 'mutual_info_score', 'neg_brier_score', 'neg_log_loss', 'neg_mean_absolute_error', 'neg_mean_absolute_percentage_error', 'neg_mean_gamma_deviance', 'neg_mean_poisson_deviance', 'neg_mean_squared_error', 'neg_mean_squared_log_error', 'neg_median_absolute_error', 'neg_negative_likelihood_ratio', 'neg_root_mean_squared_error', 'normalized_mutual_info_score', 'positive_likelihood_ratio', 'precision', 'precision_macro', 'precision_micro', 'precision_samples', 'precision_weighted', 'r2', 'rand_score', 'recall', 'recall_macro', 'recall_micro', 'recall_samples', 'recall_weighted', 'roc_auc', 'roc_auc_ovo', 'roc_auc_ovo_weighted', 'roc_auc_ovr', 'roc_auc_ovr_weighted', 'top_k_accuracy', 'v_measure_score']\n",
            "LR: 0.885 (0.116)\n",
            "LR: 0.967\n",
            "LR: 0.800\n",
            "LR: 0.847\n",
            "LR: 0.1058\n",
            "LDA: 0.885 (0.116)\n",
            "LDA: 0.933\n",
            "LDA: 0.850\n",
            "LDA: 0.860\n",
            "LDA: 0.1203\n",
            "KNN: 0.980 (0.060)\n",
            "KNN: 1.000\n",
            "KNN: 0.950\n",
            "KNN: 0.967\n",
            "KNN: 0.1675\n",
            "CART: 0.925 (0.115)\n",
            "CART: 0.933\n",
            "CART: 0.900\n",
            "CART: 0.897\n",
            "CART: 0.1178\n",
            "NB: 0.885 (0.116)\n",
            "NB: 0.933\n",
            "NB: 0.850\n",
            "NB: 0.860\n",
            "NB: 0.2347\n",
            "SVM: 0.885 (0.116)\n",
            "SVM: 0.967\n",
            "SVM: 0.800\n",
            "SVM: 0.847\n",
            "SVM: 0.1071\n"
          ]
        }
      ]
    },
    {
      "cell_type": "code",
      "source": [
        "import sklearn.metrics\n",
        "import time\n",
        "results = []\n",
        "names = []\n",
        "total_elapsed = [0, 0, 0, 0, 0, 0]\n",
        "counter = -1\n",
        "for name, model in models:\n",
        "  counter += 1\n",
        "  for i in range(1000):\n",
        "    start_time = time.time();\n",
        "    kfold = StratifiedKFold(n_splits=10, random_state=1, shuffle=True)\n",
        "    cv_results = cross_val_score(model, X_train, Y_train, cv=kfold, scoring='accuracy')\n",
        "    if name == 'KNN':\n",
        "      y_score = cv_results\n",
        "    results.append(cv_results)\n",
        "    names.append(name)\n",
        "    cv_results = cross_val_score(model, X_train, Y_train, cv=kfold, scoring='precision')\n",
        "    cv_results = cross_val_score(model, X_train, Y_train, cv=kfold, scoring='recall')\n",
        "    cv_results = cross_val_score(model, X_train, Y_train, cv=kfold, scoring='f1')\n",
        "    end_time = time.time()\n",
        "    elapsed = end_time - start_time\n",
        "    total_elapsed[counter] += elapsed\n",
        "\n",
        "print(total_elapsed)\n",
        "for i in range(6):\n",
        "  total_elapsed[i] = total_elapsed[i]/1000\n",
        "print(total_elapsed)"
      ],
      "metadata": {
        "colab": {
          "base_uri": "https://localhost:8080/"
        },
        "id": "ce-r6AkR-cGV",
        "outputId": "fc435344-8ae4-4aa6-95a9-c0e725ae6db2"
      },
      "execution_count": null,
      "outputs": [
        {
          "output_type": "stream",
          "name": "stderr",
          "text": [
            "/usr/local/lib/python3.10/dist-packages/sklearn/metrics/_classification.py:1344: UndefinedMetricWarning: Precision is ill-defined and being set to 0.0 due to no predicted samples. Use `zero_division` parameter to control this behavior.\n",
            "  _warn_prf(average, modifier, msg_start, len(result))\n",
            "/usr/local/lib/python3.10/dist-packages/sklearn/metrics/_classification.py:1344: UndefinedMetricWarning: Precision is ill-defined and being set to 0.0 due to no predicted samples. Use `zero_division` parameter to control this behavior.\n",
            "  _warn_prf(average, modifier, msg_start, len(result))\n",
            "/usr/local/lib/python3.10/dist-packages/sklearn/metrics/_classification.py:1344: UndefinedMetricWarning: Precision is ill-defined and being set to 0.0 due to no predicted samples. Use `zero_division` parameter to control this behavior.\n",
            "  _warn_prf(average, modifier, msg_start, len(result))\n",
            "/usr/local/lib/python3.10/dist-packages/sklearn/metrics/_classification.py:1344: UndefinedMetricWarning: Precision is ill-defined and being set to 0.0 due to no predicted samples. Use `zero_division` parameter to control this behavior.\n",
            "  _warn_prf(average, modifier, msg_start, len(result))\n",
            "/usr/local/lib/python3.10/dist-packages/sklearn/metrics/_classification.py:1344: UndefinedMetricWarning: Precision is ill-defined and being set to 0.0 due to no predicted samples. Use `zero_division` parameter to control this behavior.\n",
            "  _warn_prf(average, modifier, msg_start, len(result))\n",
            "/usr/local/lib/python3.10/dist-packages/sklearn/metrics/_classification.py:1344: UndefinedMetricWarning: Precision is ill-defined and being set to 0.0 due to no predicted samples. Use `zero_division` parameter to control this behavior.\n",
            "  _warn_prf(average, modifier, msg_start, len(result))\n",
            "/usr/local/lib/python3.10/dist-packages/sklearn/metrics/_classification.py:1344: UndefinedMetricWarning: Precision is ill-defined and being set to 0.0 due to no predicted samples. Use `zero_division` parameter to control this behavior.\n",
            "  _warn_prf(average, modifier, msg_start, len(result))\n",
            "/usr/local/lib/python3.10/dist-packages/sklearn/metrics/_classification.py:1344: UndefinedMetricWarning: Precision is ill-defined and being set to 0.0 due to no predicted samples. Use `zero_division` parameter to control this behavior.\n",
            "  _warn_prf(average, modifier, msg_start, len(result))\n",
            "/usr/local/lib/python3.10/dist-packages/sklearn/metrics/_classification.py:1344: UndefinedMetricWarning: Precision is ill-defined and being set to 0.0 due to no predicted samples. Use `zero_division` parameter to control this behavior.\n",
            "  _warn_prf(average, modifier, msg_start, len(result))\n",
            "/usr/local/lib/python3.10/dist-packages/sklearn/metrics/_classification.py:1344: UndefinedMetricWarning: Precision is ill-defined and being set to 0.0 due to no predicted samples. Use `zero_division` parameter to control this behavior.\n",
            "  _warn_prf(average, modifier, msg_start, len(result))\n",
            "/usr/local/lib/python3.10/dist-packages/sklearn/metrics/_classification.py:1344: UndefinedMetricWarning: Precision is ill-defined and being set to 0.0 due to no predicted samples. Use `zero_division` parameter to control this behavior.\n",
            "  _warn_prf(average, modifier, msg_start, len(result))\n",
            "/usr/local/lib/python3.10/dist-packages/sklearn/metrics/_classification.py:1344: UndefinedMetricWarning: Precision is ill-defined and being set to 0.0 due to no predicted samples. Use `zero_division` parameter to control this behavior.\n",
            "  _warn_prf(average, modifier, msg_start, len(result))\n",
            "/usr/local/lib/python3.10/dist-packages/sklearn/metrics/_classification.py:1344: UndefinedMetricWarning: Precision is ill-defined and being set to 0.0 due to no predicted samples. Use `zero_division` parameter to control this behavior.\n",
            "  _warn_prf(average, modifier, msg_start, len(result))\n",
            "/usr/local/lib/python3.10/dist-packages/sklearn/metrics/_classification.py:1344: UndefinedMetricWarning: Precision is ill-defined and being set to 0.0 due to no predicted samples. Use `zero_division` parameter to control this behavior.\n",
            "  _warn_prf(average, modifier, msg_start, len(result))\n",
            "/usr/local/lib/python3.10/dist-packages/sklearn/metrics/_classification.py:1344: UndefinedMetricWarning: Precision is ill-defined and being set to 0.0 due to no predicted samples. Use `zero_division` parameter to control this behavior.\n",
            "  _warn_prf(average, modifier, msg_start, len(result))\n",
            "/usr/local/lib/python3.10/dist-packages/sklearn/metrics/_classification.py:1344: UndefinedMetricWarning: Precision is ill-defined and being set to 0.0 due to no predicted samples. Use `zero_division` parameter to control this behavior.\n",
            "  _warn_prf(average, modifier, msg_start, len(result))\n",
            "/usr/local/lib/python3.10/dist-packages/sklearn/metrics/_classification.py:1344: UndefinedMetricWarning: Precision is ill-defined and being set to 0.0 due to no predicted samples. Use `zero_division` parameter to control this behavior.\n",
            "  _warn_prf(average, modifier, msg_start, len(result))\n",
            "/usr/local/lib/python3.10/dist-packages/sklearn/metrics/_classification.py:1344: UndefinedMetricWarning: Precision is ill-defined and being set to 0.0 due to no predicted samples. Use `zero_division` parameter to control this behavior.\n",
            "  _warn_prf(average, modifier, msg_start, len(result))\n",
            "/usr/local/lib/python3.10/dist-packages/sklearn/metrics/_classification.py:1344: UndefinedMetricWarning: Precision is ill-defined and being set to 0.0 due to no predicted samples. Use `zero_division` parameter to control this behavior.\n",
            "  _warn_prf(average, modifier, msg_start, len(result))\n",
            "/usr/local/lib/python3.10/dist-packages/sklearn/metrics/_classification.py:1344: UndefinedMetricWarning: Precision is ill-defined and being set to 0.0 due to no predicted samples. Use `zero_division` parameter to control this behavior.\n",
            "  _warn_prf(average, modifier, msg_start, len(result))\n",
            "/usr/local/lib/python3.10/dist-packages/sklearn/metrics/_classification.py:1344: UndefinedMetricWarning: Precision is ill-defined and being set to 0.0 due to no predicted samples. Use `zero_division` parameter to control this behavior.\n",
            "  _warn_prf(average, modifier, msg_start, len(result))\n",
            "/usr/local/lib/python3.10/dist-packages/sklearn/metrics/_classification.py:1344: UndefinedMetricWarning: Precision is ill-defined and being set to 0.0 due to no predicted samples. Use `zero_division` parameter to control this behavior.\n",
            "  _warn_prf(average, modifier, msg_start, len(result))\n",
            "/usr/local/lib/python3.10/dist-packages/sklearn/metrics/_classification.py:1344: UndefinedMetricWarning: Precision is ill-defined and being set to 0.0 due to no predicted samples. Use `zero_division` parameter to control this behavior.\n",
            "  _warn_prf(average, modifier, msg_start, len(result))\n",
            "/usr/local/lib/python3.10/dist-packages/sklearn/metrics/_classification.py:1344: UndefinedMetricWarning: Precision is ill-defined and being set to 0.0 due to no predicted samples. Use `zero_division` parameter to control this behavior.\n",
            "  _warn_prf(average, modifier, msg_start, len(result))\n",
            "/usr/local/lib/python3.10/dist-packages/sklearn/metrics/_classification.py:1344: UndefinedMetricWarning: Precision is ill-defined and being set to 0.0 due to no predicted samples. Use `zero_division` parameter to control this behavior.\n",
            "  _warn_prf(average, modifier, msg_start, len(result))\n",
            "/usr/local/lib/python3.10/dist-packages/sklearn/metrics/_classification.py:1344: UndefinedMetricWarning: Precision is ill-defined and being set to 0.0 due to no predicted samples. Use `zero_division` parameter to control this behavior.\n",
            "  _warn_prf(average, modifier, msg_start, len(result))\n",
            "/usr/local/lib/python3.10/dist-packages/sklearn/metrics/_classification.py:1344: UndefinedMetricWarning: Precision is ill-defined and being set to 0.0 due to no predicted samples. Use `zero_division` parameter to control this behavior.\n",
            "  _warn_prf(average, modifier, msg_start, len(result))\n",
            "/usr/local/lib/python3.10/dist-packages/sklearn/metrics/_classification.py:1344: UndefinedMetricWarning: Precision is ill-defined and being set to 0.0 due to no predicted samples. Use `zero_division` parameter to control this behavior.\n",
            "  _warn_prf(average, modifier, msg_start, len(result))\n",
            "/usr/local/lib/python3.10/dist-packages/sklearn/metrics/_classification.py:1344: UndefinedMetricWarning: Precision is ill-defined and being set to 0.0 due to no predicted samples. Use `zero_division` parameter to control this behavior.\n",
            "  _warn_prf(average, modifier, msg_start, len(result))\n",
            "/usr/local/lib/python3.10/dist-packages/sklearn/metrics/_classification.py:1344: UndefinedMetricWarning: Precision is ill-defined and being set to 0.0 due to no predicted samples. Use `zero_division` parameter to control this behavior.\n",
            "  _warn_prf(average, modifier, msg_start, len(result))\n",
            "/usr/local/lib/python3.10/dist-packages/sklearn/metrics/_classification.py:1344: UndefinedMetricWarning: Precision is ill-defined and being set to 0.0 due to no predicted samples. Use `zero_division` parameter to control this behavior.\n",
            "  _warn_prf(average, modifier, msg_start, len(result))\n",
            "/usr/local/lib/python3.10/dist-packages/sklearn/metrics/_classification.py:1344: UndefinedMetricWarning: Precision is ill-defined and being set to 0.0 due to no predicted samples. Use `zero_division` parameter to control this behavior.\n",
            "  _warn_prf(average, modifier, msg_start, len(result))\n",
            "/usr/local/lib/python3.10/dist-packages/sklearn/metrics/_classification.py:1344: UndefinedMetricWarning: Precision is ill-defined and being set to 0.0 due to no predicted samples. Use `zero_division` parameter to control this behavior.\n",
            "  _warn_prf(average, modifier, msg_start, len(result))\n",
            "/usr/local/lib/python3.10/dist-packages/sklearn/metrics/_classification.py:1344: UndefinedMetricWarning: Precision is ill-defined and being set to 0.0 due to no predicted samples. Use `zero_division` parameter to control this behavior.\n",
            "  _warn_prf(average, modifier, msg_start, len(result))\n",
            "/usr/local/lib/python3.10/dist-packages/sklearn/metrics/_classification.py:1344: UndefinedMetricWarning: Precision is ill-defined and being set to 0.0 due to no predicted samples. Use `zero_division` parameter to control this behavior.\n",
            "  _warn_prf(average, modifier, msg_start, len(result))\n",
            "/usr/local/lib/python3.10/dist-packages/sklearn/metrics/_classification.py:1344: UndefinedMetricWarning: Precision is ill-defined and being set to 0.0 due to no predicted samples. Use `zero_division` parameter to control this behavior.\n",
            "  _warn_prf(average, modifier, msg_start, len(result))\n",
            "/usr/local/lib/python3.10/dist-packages/sklearn/metrics/_classification.py:1344: UndefinedMetricWarning: Precision is ill-defined and being set to 0.0 due to no predicted samples. Use `zero_division` parameter to control this behavior.\n",
            "  _warn_prf(average, modifier, msg_start, len(result))\n",
            "/usr/local/lib/python3.10/dist-packages/sklearn/metrics/_classification.py:1344: UndefinedMetricWarning: Precision is ill-defined and being set to 0.0 due to no predicted samples. Use `zero_division` parameter to control this behavior.\n",
            "  _warn_prf(average, modifier, msg_start, len(result))\n",
            "/usr/local/lib/python3.10/dist-packages/sklearn/metrics/_classification.py:1344: UndefinedMetricWarning: Precision is ill-defined and being set to 0.0 due to no predicted samples. Use `zero_division` parameter to control this behavior.\n",
            "  _warn_prf(average, modifier, msg_start, len(result))\n",
            "/usr/local/lib/python3.10/dist-packages/sklearn/metrics/_classification.py:1344: UndefinedMetricWarning: Precision is ill-defined and being set to 0.0 due to no predicted samples. Use `zero_division` parameter to control this behavior.\n",
            "  _warn_prf(average, modifier, msg_start, len(result))\n",
            "/usr/local/lib/python3.10/dist-packages/sklearn/metrics/_classification.py:1344: UndefinedMetricWarning: Precision is ill-defined and being set to 0.0 due to no predicted samples. Use `zero_division` parameter to control this behavior.\n",
            "  _warn_prf(average, modifier, msg_start, len(result))\n",
            "/usr/local/lib/python3.10/dist-packages/sklearn/metrics/_classification.py:1344: UndefinedMetricWarning: Precision is ill-defined and being set to 0.0 due to no predicted samples. Use `zero_division` parameter to control this behavior.\n",
            "  _warn_prf(average, modifier, msg_start, len(result))\n",
            "/usr/local/lib/python3.10/dist-packages/sklearn/metrics/_classification.py:1344: UndefinedMetricWarning: Precision is ill-defined and being set to 0.0 due to no predicted samples. Use `zero_division` parameter to control this behavior.\n",
            "  _warn_prf(average, modifier, msg_start, len(result))\n",
            "/usr/local/lib/python3.10/dist-packages/sklearn/metrics/_classification.py:1344: UndefinedMetricWarning: Precision is ill-defined and being set to 0.0 due to no predicted samples. Use `zero_division` parameter to control this behavior.\n",
            "  _warn_prf(average, modifier, msg_start, len(result))\n",
            "/usr/local/lib/python3.10/dist-packages/sklearn/metrics/_classification.py:1344: UndefinedMetricWarning: Precision is ill-defined and being set to 0.0 due to no predicted samples. Use `zero_division` parameter to control this behavior.\n",
            "  _warn_prf(average, modifier, msg_start, len(result))\n",
            "/usr/local/lib/python3.10/dist-packages/sklearn/metrics/_classification.py:1344: UndefinedMetricWarning: Precision is ill-defined and being set to 0.0 due to no predicted samples. Use `zero_division` parameter to control this behavior.\n",
            "  _warn_prf(average, modifier, msg_start, len(result))\n",
            "/usr/local/lib/python3.10/dist-packages/sklearn/metrics/_classification.py:1344: UndefinedMetricWarning: Precision is ill-defined and being set to 0.0 due to no predicted samples. Use `zero_division` parameter to control this behavior.\n",
            "  _warn_prf(average, modifier, msg_start, len(result))\n",
            "/usr/local/lib/python3.10/dist-packages/sklearn/metrics/_classification.py:1344: UndefinedMetricWarning: Precision is ill-defined and being set to 0.0 due to no predicted samples. Use `zero_division` parameter to control this behavior.\n",
            "  _warn_prf(average, modifier, msg_start, len(result))\n",
            "/usr/local/lib/python3.10/dist-packages/sklearn/metrics/_classification.py:1344: UndefinedMetricWarning: Precision is ill-defined and being set to 0.0 due to no predicted samples. Use `zero_division` parameter to control this behavior.\n",
            "  _warn_prf(average, modifier, msg_start, len(result))\n",
            "/usr/local/lib/python3.10/dist-packages/sklearn/metrics/_classification.py:1344: UndefinedMetricWarning: Precision is ill-defined and being set to 0.0 due to no predicted samples. Use `zero_division` parameter to control this behavior.\n",
            "  _warn_prf(average, modifier, msg_start, len(result))\n",
            "/usr/local/lib/python3.10/dist-packages/sklearn/metrics/_classification.py:1344: UndefinedMetricWarning: Precision is ill-defined and being set to 0.0 due to no predicted samples. Use `zero_division` parameter to control this behavior.\n",
            "  _warn_prf(average, modifier, msg_start, len(result))\n",
            "/usr/local/lib/python3.10/dist-packages/sklearn/metrics/_classification.py:1344: UndefinedMetricWarning: Precision is ill-defined and being set to 0.0 due to no predicted samples. Use `zero_division` parameter to control this behavior.\n",
            "  _warn_prf(average, modifier, msg_start, len(result))\n",
            "/usr/local/lib/python3.10/dist-packages/sklearn/metrics/_classification.py:1344: UndefinedMetricWarning: Precision is ill-defined and being set to 0.0 due to no predicted samples. Use `zero_division` parameter to control this behavior.\n",
            "  _warn_prf(average, modifier, msg_start, len(result))\n",
            "/usr/local/lib/python3.10/dist-packages/sklearn/metrics/_classification.py:1344: UndefinedMetricWarning: Precision is ill-defined and being set to 0.0 due to no predicted samples. Use `zero_division` parameter to control this behavior.\n",
            "  _warn_prf(average, modifier, msg_start, len(result))\n",
            "/usr/local/lib/python3.10/dist-packages/sklearn/metrics/_classification.py:1344: UndefinedMetricWarning: Precision is ill-defined and being set to 0.0 due to no predicted samples. Use `zero_division` parameter to control this behavior.\n",
            "  _warn_prf(average, modifier, msg_start, len(result))\n",
            "/usr/local/lib/python3.10/dist-packages/sklearn/metrics/_classification.py:1344: UndefinedMetricWarning: Precision is ill-defined and being set to 0.0 due to no predicted samples. Use `zero_division` parameter to control this behavior.\n",
            "  _warn_prf(average, modifier, msg_start, len(result))\n",
            "/usr/local/lib/python3.10/dist-packages/sklearn/metrics/_classification.py:1344: UndefinedMetricWarning: Precision is ill-defined and being set to 0.0 due to no predicted samples. Use `zero_division` parameter to control this behavior.\n",
            "  _warn_prf(average, modifier, msg_start, len(result))\n",
            "/usr/local/lib/python3.10/dist-packages/sklearn/metrics/_classification.py:1344: UndefinedMetricWarning: Precision is ill-defined and being set to 0.0 due to no predicted samples. Use `zero_division` parameter to control this behavior.\n",
            "  _warn_prf(average, modifier, msg_start, len(result))\n",
            "/usr/local/lib/python3.10/dist-packages/sklearn/metrics/_classification.py:1344: UndefinedMetricWarning: Precision is ill-defined and being set to 0.0 due to no predicted samples. Use `zero_division` parameter to control this behavior.\n",
            "  _warn_prf(average, modifier, msg_start, len(result))\n",
            "/usr/local/lib/python3.10/dist-packages/sklearn/metrics/_classification.py:1344: UndefinedMetricWarning: Precision is ill-defined and being set to 0.0 due to no predicted samples. Use `zero_division` parameter to control this behavior.\n",
            "  _warn_prf(average, modifier, msg_start, len(result))\n",
            "/usr/local/lib/python3.10/dist-packages/sklearn/metrics/_classification.py:1344: UndefinedMetricWarning: Precision is ill-defined and being set to 0.0 due to no predicted samples. Use `zero_division` parameter to control this behavior.\n",
            "  _warn_prf(average, modifier, msg_start, len(result))\n",
            "/usr/local/lib/python3.10/dist-packages/sklearn/metrics/_classification.py:1344: UndefinedMetricWarning: Precision is ill-defined and being set to 0.0 due to no predicted samples. Use `zero_division` parameter to control this behavior.\n",
            "  _warn_prf(average, modifier, msg_start, len(result))\n",
            "/usr/local/lib/python3.10/dist-packages/sklearn/metrics/_classification.py:1344: UndefinedMetricWarning: Precision is ill-defined and being set to 0.0 due to no predicted samples. Use `zero_division` parameter to control this behavior.\n",
            "  _warn_prf(average, modifier, msg_start, len(result))\n",
            "/usr/local/lib/python3.10/dist-packages/sklearn/metrics/_classification.py:1344: UndefinedMetricWarning: Precision is ill-defined and being set to 0.0 due to no predicted samples. Use `zero_division` parameter to control this behavior.\n",
            "  _warn_prf(average, modifier, msg_start, len(result))\n",
            "/usr/local/lib/python3.10/dist-packages/sklearn/metrics/_classification.py:1344: UndefinedMetricWarning: Precision is ill-defined and being set to 0.0 due to no predicted samples. Use `zero_division` parameter to control this behavior.\n",
            "  _warn_prf(average, modifier, msg_start, len(result))\n",
            "/usr/local/lib/python3.10/dist-packages/sklearn/metrics/_classification.py:1344: UndefinedMetricWarning: Precision is ill-defined and being set to 0.0 due to no predicted samples. Use `zero_division` parameter to control this behavior.\n",
            "  _warn_prf(average, modifier, msg_start, len(result))\n",
            "/usr/local/lib/python3.10/dist-packages/sklearn/metrics/_classification.py:1344: UndefinedMetricWarning: Precision is ill-defined and being set to 0.0 due to no predicted samples. Use `zero_division` parameter to control this behavior.\n",
            "  _warn_prf(average, modifier, msg_start, len(result))\n",
            "/usr/local/lib/python3.10/dist-packages/sklearn/metrics/_classification.py:1344: UndefinedMetricWarning: Precision is ill-defined and being set to 0.0 due to no predicted samples. Use `zero_division` parameter to control this behavior.\n",
            "  _warn_prf(average, modifier, msg_start, len(result))\n",
            "/usr/local/lib/python3.10/dist-packages/sklearn/metrics/_classification.py:1344: UndefinedMetricWarning: Precision is ill-defined and being set to 0.0 due to no predicted samples. Use `zero_division` parameter to control this behavior.\n",
            "  _warn_prf(average, modifier, msg_start, len(result))\n",
            "/usr/local/lib/python3.10/dist-packages/sklearn/metrics/_classification.py:1344: UndefinedMetricWarning: Precision is ill-defined and being set to 0.0 due to no predicted samples. Use `zero_division` parameter to control this behavior.\n",
            "  _warn_prf(average, modifier, msg_start, len(result))\n",
            "/usr/local/lib/python3.10/dist-packages/sklearn/metrics/_classification.py:1344: UndefinedMetricWarning: Precision is ill-defined and being set to 0.0 due to no predicted samples. Use `zero_division` parameter to control this behavior.\n",
            "  _warn_prf(average, modifier, msg_start, len(result))\n",
            "/usr/local/lib/python3.10/dist-packages/sklearn/metrics/_classification.py:1344: UndefinedMetricWarning: Precision is ill-defined and being set to 0.0 due to no predicted samples. Use `zero_division` parameter to control this behavior.\n",
            "  _warn_prf(average, modifier, msg_start, len(result))\n",
            "/usr/local/lib/python3.10/dist-packages/sklearn/metrics/_classification.py:1344: UndefinedMetricWarning: Precision is ill-defined and being set to 0.0 due to no predicted samples. Use `zero_division` parameter to control this behavior.\n",
            "  _warn_prf(average, modifier, msg_start, len(result))\n",
            "/usr/local/lib/python3.10/dist-packages/sklearn/metrics/_classification.py:1344: UndefinedMetricWarning: Precision is ill-defined and being set to 0.0 due to no predicted samples. Use `zero_division` parameter to control this behavior.\n",
            "  _warn_prf(average, modifier, msg_start, len(result))\n",
            "/usr/local/lib/python3.10/dist-packages/sklearn/metrics/_classification.py:1344: UndefinedMetricWarning: Precision is ill-defined and being set to 0.0 due to no predicted samples. Use `zero_division` parameter to control this behavior.\n",
            "  _warn_prf(average, modifier, msg_start, len(result))\n",
            "/usr/local/lib/python3.10/dist-packages/sklearn/metrics/_classification.py:1344: UndefinedMetricWarning: Precision is ill-defined and being set to 0.0 due to no predicted samples. Use `zero_division` parameter to control this behavior.\n",
            "  _warn_prf(average, modifier, msg_start, len(result))\n",
            "/usr/local/lib/python3.10/dist-packages/sklearn/metrics/_classification.py:1344: UndefinedMetricWarning: Precision is ill-defined and being set to 0.0 due to no predicted samples. Use `zero_division` parameter to control this behavior.\n",
            "  _warn_prf(average, modifier, msg_start, len(result))\n",
            "/usr/local/lib/python3.10/dist-packages/sklearn/metrics/_classification.py:1344: UndefinedMetricWarning: Precision is ill-defined and being set to 0.0 due to no predicted samples. Use `zero_division` parameter to control this behavior.\n",
            "  _warn_prf(average, modifier, msg_start, len(result))\n",
            "/usr/local/lib/python3.10/dist-packages/sklearn/metrics/_classification.py:1344: UndefinedMetricWarning: Precision is ill-defined and being set to 0.0 due to no predicted samples. Use `zero_division` parameter to control this behavior.\n",
            "  _warn_prf(average, modifier, msg_start, len(result))\n",
            "/usr/local/lib/python3.10/dist-packages/sklearn/metrics/_classification.py:1344: UndefinedMetricWarning: Precision is ill-defined and being set to 0.0 due to no predicted samples. Use `zero_division` parameter to control this behavior.\n",
            "  _warn_prf(average, modifier, msg_start, len(result))\n",
            "/usr/local/lib/python3.10/dist-packages/sklearn/metrics/_classification.py:1344: UndefinedMetricWarning: Precision is ill-defined and being set to 0.0 due to no predicted samples. Use `zero_division` parameter to control this behavior.\n",
            "  _warn_prf(average, modifier, msg_start, len(result))\n",
            "/usr/local/lib/python3.10/dist-packages/sklearn/metrics/_classification.py:1344: UndefinedMetricWarning: Precision is ill-defined and being set to 0.0 due to no predicted samples. Use `zero_division` parameter to control this behavior.\n",
            "  _warn_prf(average, modifier, msg_start, len(result))\n",
            "/usr/local/lib/python3.10/dist-packages/sklearn/metrics/_classification.py:1344: UndefinedMetricWarning: Precision is ill-defined and being set to 0.0 due to no predicted samples. Use `zero_division` parameter to control this behavior.\n",
            "  _warn_prf(average, modifier, msg_start, len(result))\n",
            "/usr/local/lib/python3.10/dist-packages/sklearn/metrics/_classification.py:1344: UndefinedMetricWarning: Precision is ill-defined and being set to 0.0 due to no predicted samples. Use `zero_division` parameter to control this behavior.\n",
            "  _warn_prf(average, modifier, msg_start, len(result))\n",
            "/usr/local/lib/python3.10/dist-packages/sklearn/metrics/_classification.py:1344: UndefinedMetricWarning: Precision is ill-defined and being set to 0.0 due to no predicted samples. Use `zero_division` parameter to control this behavior.\n",
            "  _warn_prf(average, modifier, msg_start, len(result))\n",
            "/usr/local/lib/python3.10/dist-packages/sklearn/metrics/_classification.py:1344: UndefinedMetricWarning: Precision is ill-defined and being set to 0.0 due to no predicted samples. Use `zero_division` parameter to control this behavior.\n",
            "  _warn_prf(average, modifier, msg_start, len(result))\n",
            "/usr/local/lib/python3.10/dist-packages/sklearn/metrics/_classification.py:1344: UndefinedMetricWarning: Precision is ill-defined and being set to 0.0 due to no predicted samples. Use `zero_division` parameter to control this behavior.\n",
            "  _warn_prf(average, modifier, msg_start, len(result))\n",
            "/usr/local/lib/python3.10/dist-packages/sklearn/metrics/_classification.py:1344: UndefinedMetricWarning: Precision is ill-defined and being set to 0.0 due to no predicted samples. Use `zero_division` parameter to control this behavior.\n",
            "  _warn_prf(average, modifier, msg_start, len(result))\n",
            "/usr/local/lib/python3.10/dist-packages/sklearn/metrics/_classification.py:1344: UndefinedMetricWarning: Precision is ill-defined and being set to 0.0 due to no predicted samples. Use `zero_division` parameter to control this behavior.\n",
            "  _warn_prf(average, modifier, msg_start, len(result))\n",
            "/usr/local/lib/python3.10/dist-packages/sklearn/metrics/_classification.py:1344: UndefinedMetricWarning: Precision is ill-defined and being set to 0.0 due to no predicted samples. Use `zero_division` parameter to control this behavior.\n",
            "  _warn_prf(average, modifier, msg_start, len(result))\n",
            "/usr/local/lib/python3.10/dist-packages/sklearn/metrics/_classification.py:1344: UndefinedMetricWarning: Precision is ill-defined and being set to 0.0 due to no predicted samples. Use `zero_division` parameter to control this behavior.\n",
            "  _warn_prf(average, modifier, msg_start, len(result))\n"
          ]
        },
        {
          "output_type": "stream",
          "name": "stdout",
          "text": [
            "[120.67337727546692, 133.13072085380554, 226.4733030796051, 106.14874243736267, 107.20555591583252, 111.93515968322754]\n",
            "[0.12067337727546693, 0.13313072085380553, 0.22647330307960511, 0.10614874243736266, 0.10720555591583251, 0.11193515968322754]\n"
          ]
        }
      ]
    },
    {
      "cell_type": "code",
      "source": [
        "\"\"\"from sklearn.metrics import roc_curve, roc_auc_score\n",
        "fpr, tpr, thresholds = roc_curve(Y_train, y_score)\n",
        "roc_auc = roc_auc_score(Y_train, y_score)\n",
        "\n",
        "# Step 3: Plot the ROC curve\n",
        "plt.figure(figsize=(8, 6))\n",
        "plt.plot(fpr, tpr, label=f'ROC Curve (AUC = {roc_auc:.2f})')\n",
        "plt.plot([0, 1], [0, 1], 'k--')  # Plot the random guess line\n",
        "plt.xlim([0.0, 1.0])\n",
        "plt.ylim([0.0, 1.05])\n",
        "plt.xlabel('False Positive Rate (FPR)')\n",
        "plt.ylabel('True Positive Rate (TPR)')\n",
        "plt.title('Receiver Operating Characteristic (ROC) Curve')\n",
        "plt.legend(loc='lower right')\n",
        "plt.show() \"\"\""
      ],
      "metadata": {
        "colab": {
          "base_uri": "https://localhost:8080/",
          "height": 89
        },
        "id": "gFZiGfTn3Wf5",
        "outputId": "45fba7b9-12ba-4806-a9d5-da06d936579c"
      },
      "execution_count": null,
      "outputs": [
        {
          "output_type": "execute_result",
          "data": {
            "text/plain": [
              "\"from sklearn.metrics import roc_curve, roc_auc_score\\nfpr, tpr, thresholds = roc_curve(Y_train, y_score)\\nroc_auc = roc_auc_score(Y_train, y_score)\\n\\n# Step 3: Plot the ROC curve\\nplt.figure(figsize=(8, 6))\\nplt.plot(fpr, tpr, label=f'ROC Curve (AUC = {roc_auc:.2f})')\\nplt.plot([0, 1], [0, 1], 'k--')  # Plot the random guess line\\nplt.xlim([0.0, 1.0])\\nplt.ylim([0.0, 1.05])\\nplt.xlabel('False Positive Rate (FPR)')\\nplt.ylabel('True Positive Rate (TPR)')\\nplt.title('Receiver Operating Characteristic (ROC) Curve')\\nplt.legend(loc='lower right')\\nplt.show() \""
            ],
            "application/vnd.google.colaboratory.intrinsic+json": {
              "type": "string"
            }
          },
          "metadata": {},
          "execution_count": 7
        }
      ]
    },
    {
      "cell_type": "code",
      "source": [
        "plt.boxplot(results, labels=names)\n",
        "plt.title('Algorithm Comparison')\n",
        "plt.show()"
      ],
      "metadata": {
        "colab": {
          "base_uri": "https://localhost:8080/",
          "height": 452
        },
        "id": "3zlWVod_U8Xq",
        "outputId": "5fa7e790-3907-4dde-8e26-b06b143c3abb"
      },
      "execution_count": null,
      "outputs": [
        {
          "output_type": "display_data",
          "data": {
            "text/plain": [
              "<Figure size 640x480 with 1 Axes>"
            ],
            "image/png": "[encoded data removed]"
          },
          "metadata": {}
        }
      ]
    },
    {
      "cell_type": "code",
      "source": [
        "from sklearn import metrics\n",
        "import matplotlib.pyplot as plt\n",
        "confusion_matrices = []\n",
        "for i in range(len(models)):\n",
        "  model = models[i][1]\n",
        "  model.fit(X_train, Y_train)\n",
        "  predictions = model.predict(X_validation)\n",
        "  #print(classification_report(Y_validation, predictions))\n",
        "  matrix = confusion_matrix(Y_validation, predictions)\n",
        "  print(matrix)\n",
        "  cm_display = metrics.ConfusionMatrixDisplay(confusion_matrix = matrix, display_labels = [False, True])\n",
        "  cm_display.plot()\n",
        "  plt.show()\n",
        "  #confusion_matrices.append(matrix)"
      ],
      "metadata": {
        "colab": {
          "base_uri": "https://localhost:8080/",
          "height": 1000
        },
        "id": "_PnTPV9JU-pw",
        "outputId": "abfda37a-03f5-4f45-f7d8-5697e641efb9"
      },
      "execution_count": null,
      "outputs": [
        {
          "output_type": "stream",
          "name": "stdout",
          "text": [
            "[[6 0]\n",
            " [0 5]]\n"
          ]
        },
        {
          "output_type": "display_data",
          "data": {
            "text/plain": [
              "<Figure size 640x480 with 2 Axes>"
            ],
            "image/png": "[encoded data removed]"
          },
          "metadata": {}
        },
        {
          "output_type": "stream",
          "name": "stdout",
          "text": [
            "[[5 1]\n",
            " [0 5]]\n"
          ]
        },
        {
          "output_type": "display_data",
          "data": {
            "text/plain": [
              "<Figure size 640x480 with 2 Axes>"
            ],
            "image/png": "[encoded data removed]"
          },
          "metadata": {}
        },
        {
          "output_type": "stream",
          "name": "stdout",
          "text": [
            "[[6 0]\n",
            " [1 4]]\n"
          ]
        },
        {
          "output_type": "display_data",
          "data": {
            "text/plain": [
              "<Figure size 640x480 with 2 Axes>"
            ],
            "image/png": "[encoded data removed]"
          },
          "metadata": {}
        },
        {
          "output_type": "stream",
          "name": "stdout",
          "text": [
            "[[6 0]\n",
            " [0 5]]\n"
          ]
        },
        {
          "output_type": "display_data",
          "data": {
            "text/plain": [
              "<Figure size 640x480 with 2 Axes>"
            ],
            "image/png": "[encoded data removed]"
          },
          "metadata": {}
        },
        {
          "output_type": "stream",
          "name": "stdout",
          "text": [
            "[[6 0]\n",
            " [1 4]]\n"
          ]
        },
        {
          "output_type": "display_data",
          "data": {
            "text/plain": [
              "<Figure size 640x480 with 2 Axes>"
            ],
            "image/png": "[encoded data removed]"
          },
          "metadata": {}
        },
        {
          "output_type": "stream",
          "name": "stdout",
          "text": [
            "[[6 0]\n",
            " [0 5]]\n"
          ]
        },
        {
          "output_type": "display_data",
          "data": {
            "text/plain": [
              "<Figure size 640x480 with 2 Axes>"
            ],
            "image/png": "[encoded data removed]"
          },
          "metadata": {}
        }
      ]
    },
    {
      "cell_type": "code",
      "source": [
        "for i in range(len(confusion_matrices)):\n",
        "  accuracy = (confusion_matrices[i][0][0] + confusion_matrices[i][1][1]) / (confusion_matrices[i][0][0] + confusion_matrices[i][1][0] + confusion_matrices[i][0][1] + confusion_matrices[i][1][1])\n",
        "  print(accuracy)"
      ],
      "metadata": {
        "id": "rpBw-9u6ckPm"
      },
      "execution_count": null,
      "outputs": []
    },
    {
      "cell_type": "code",
      "source": [
        "from sklearn.decomposition import PCA\n",
        "#pca = PCA(n_components = 18)\n",
        "pca = PCA(n_components = 11)\n",
        "array = df.values\n",
        "X = array[:,0:18]\n",
        "y = array[:,18]\n",
        "X_train, X_test, Y_train, Y_test = train_test_split(X, y, test_size=0.20, random_state=1,stratify=y)\n",
        "x_fitted = pca.fit(X_train)\n",
        "x_trained_fitted = x_fitted.transform(X_train)\n",
        "\n",
        "x_tested_pca = x_fitted.transform(X_test)\n",
        "\n",
        "#y_fitted = pca.fit(Y_train)\n",
        "#y_trained_fitted = y_fitted.transform(Y_train)\n",
        "\n",
        "#y_tested = pca.fit(Y_validation)\n",
        "#y_tested_fitted = y_tested.transform(Y_validation)"
      ],
      "metadata": {
        "id": "RH7LFEC_ZZm2"
      },
      "execution_count": null,
      "outputs": []
    },
    {
      "cell_type": "code",
      "source": [
        "results_pca = []\n",
        "names_pca = []\n",
        "for name, model in models:\n",
        "  kfold = StratifiedKFold(n_splits=10, random_state=1, shuffle=True)\n",
        "\t#cv_results = cross_val_score(model, X_train_pca, Y_train_pca, cv=kfold, scoring='accuracy')\n",
        "  cv_results = cross_val_score(model, x_trained_fitted, Y_train, cv=kfold, scoring='accuracy')\n",
        "  results_pca.append(cv_results)\n",
        "  names_pca.append(name)\n",
        "  print('%s: %.3f (%.3f)' % (name, cv_results.mean(), cv_results.std()))\n",
        "  cv_results = cross_val_score(model, x_trained_fitted, Y_train, cv=kfold, scoring='precision')\n",
        "  print('%s: %.3f' % (name, cv_results.mean()))\n",
        "  cv_results = cross_val_score(model, x_trained_fitted, Y_train, cv=kfold, scoring='recall')\n",
        "  print('%s: %.3f' % (name, cv_results.mean()))\n",
        "  cv_results = cross_val_score(model, x_trained_fitted, Y_train, cv=kfold, scoring='f1')\n",
        "  print('%s: %.3f' % (name, cv_results.mean()))"
      ],
      "metadata": {
        "colab": {
          "base_uri": "https://localhost:8080/"
        },
        "id": "voQm77pDdbnV",
        "outputId": "524ba817-8101-4e17-99b8-cce109540619"
      },
      "execution_count": null,
      "outputs": [
        {
          "output_type": "stream",
          "name": "stdout",
          "text": [
            "LR: 0.955 (0.091)\n",
            "LR: 0.933\n",
            "LR: 1.000\n",
            "LR: 0.960\n",
            "LDA: 0.980 (0.060)\n",
            "LDA: 1.000\n",
            "LDA: 0.950\n",
            "LDA: 0.967\n",
            "KNN: 0.980 (0.060)\n",
            "KNN: 1.000\n",
            "KNN: 0.950\n",
            "KNN: 0.967\n",
            "CART: 0.905 (0.117)\n",
            "CART: 0.900\n",
            "CART: 0.900\n",
            "CART: 0.887\n",
            "NB: 0.930 (0.108)\n",
            "NB: 0.933\n",
            "NB: 0.950\n",
            "NB: 0.927\n",
            "SVM: 0.865 (0.112)\n",
            "SVM: 0.933\n",
            "SVM: 0.800\n",
            "SVM: 0.827\n"
          ]
        }
      ]
    },
    {
      "cell_type": "code",
      "source": [
        "import sklearn.metrics\n",
        "import time\n",
        "results = []\n",
        "names = []\n",
        "total_elapsed = [0, 0, 0, 0, 0, 0]\n",
        "counter = -1\n",
        "for name, model in models:\n",
        "  counter += 1\n",
        "  for i in range(1000):\n",
        "    start_time = time.time();\n",
        "    kfold = StratifiedKFold(n_splits=10, random_state=1, shuffle=True)\n",
        "    cv_results = cross_val_score(model, x_trained_fitted, Y_train, cv=kfold, scoring='accuracy')\n",
        "    if name == 'KNN':\n",
        "      y_score = cv_results\n",
        "    results.append(cv_results)\n",
        "    names.append(name)\n",
        "    cv_results = cross_val_score(model, x_trained_fitted, Y_train, cv=kfold, scoring='precision')\n",
        "    cv_results = cross_val_score(model, x_trained_fitted, Y_train, cv=kfold, scoring='recall')\n",
        "    cv_results = cross_val_score(model, x_trained_fitted, Y_train, cv=kfold, scoring='f1')\n",
        "    end_time = time.time()\n",
        "    elapsed = end_time - start_time\n",
        "    total_elapsed[counter] += elapsed\n",
        "\n",
        "print(total_elapsed)\n",
        "for i in range(6):\n",
        "  total_elapsed[i] = total_elapsed[i]/1000\n",
        "print(total_elapsed)"
      ],
      "metadata": {
        "colab": {
          "base_uri": "https://localhost:8080/"
        },
        "id": "dJJz0eIxJTbq",
        "outputId": "9e908425-c1fd-4041-b275-95ea2f1569ce"
      },
      "execution_count": null,
      "outputs": [
        {
          "output_type": "stream",
          "name": "stdout",
          "text": [
            "[120.91633796691895, 126.62770175933838, 163.7128369808197, 102.6229088306427, 106.10651159286499, 219.01150250434875]\n",
            "[0.12091633796691895, 0.12662770175933838, 0.1637128369808197, 0.1026229088306427, 0.106106511592865, 0.21901150250434875]\n"
          ]
        }
      ]
    },
    {
      "cell_type": "code",
      "source": [
        "plt.boxplot(results_pca, labels=names_pca)\n",
        "plt.title('Algorithm Comparison')\n",
        "plt.show()"
      ],
      "metadata": {
        "colab": {
          "base_uri": "https://localhost:8080/",
          "height": 452
        },
        "id": "lUtRB-QTl8pQ",
        "outputId": "8f2297f7-cbb4-4f57-b57a-1f674e587a0d"
      },
      "execution_count": null,
      "outputs": [
        {
          "output_type": "display_data",
          "data": {
            "text/plain": [
              "<Figure size 640x480 with 1 Axes>"
            ],
            "image/png": "[encoded data removed]"
          },
          "metadata": {}
        }
      ]
    },
    {
      "cell_type": "code",
      "source": [
        "print(results)\n",
        "print(results_pca)"
      ],
      "metadata": {
        "colab": {
          "base_uri": "https://localhost:8080/"
        },
        "id": "-C3bYFRalYIN",
        "outputId": "6d4eb693-5866-4755-8928-3980e287c048"
      },
      "execution_count": null,
      "outputs": [
        {
          "output_type": "stream",
          "name": "stdout",
          "text": [
            "[array([0.8 , 1.  , 1.  , 0.8 , 0.75, 1.  , 1.  , 1.  , 0.75, 0.75]), array([0.8 , 0.8 , 1.  , 1.  , 0.75, 1.  , 1.  , 0.75, 1.  , 0.75]), array([1. , 0.8, 1. , 1. , 1. , 1. , 1. , 1. , 1. , 1. ]), array([1.  , 0.6 , 1.  , 0.8 , 0.75, 1.  , 0.75, 1.  , 0.75, 0.75]), array([0.8 , 1.  , 1.  , 0.8 , 1.  , 0.75, 0.75, 0.75, 1.  , 1.  ]), array([0.8 , 0.8 , 1.  , 1.  , 0.75, 1.  , 0.75, 1.  , 0.75, 1.  ])]\n",
            "[array([1.  , 1.  , 1.  , 0.8 , 1.  , 1.  , 1.  , 1.  , 0.75, 1.  ]), array([1. , 0.8, 1. , 1. , 1. , 1. , 1. , 1. , 1. , 1. ]), array([1. , 0.8, 1. , 1. , 1. , 1. , 1. , 1. , 1. , 1. ]), array([1.  , 0.8 , 1.  , 1.  , 1.  , 1.  , 0.75, 0.75, 0.75, 1.  ]), array([1.  , 1.  , 1.  , 0.8 , 0.75, 1.  , 1.  , 0.75, 1.  , 1.  ]), array([0.8 , 1.  , 0.8 , 0.8 , 0.75, 1.  , 0.75, 0.75, 1.  , 1.  ])]\n"
          ]
        }
      ]
    },
    {
      "cell_type": "code",
      "source": [
        "confusion_matrices = []\n",
        "for i in range(len(models)):\n",
        "  model = models[i][1]\n",
        "  model.fit(x_trained_fitted, Y_train)\n",
        "  predictions = model.predict(x_tested_pca)\n",
        "  classification_report(Y_test, predictions)\n",
        "  matrix = confusion_matrix(Y_test, predictions)\n",
        "  print(matrix)\n",
        "  #confusion_matrices.append(matrix)"
      ],
      "metadata": {
        "colab": {
          "base_uri": "https://localhost:8080/"
        },
        "id": "dhxHr400mHVD",
        "outputId": "4e9c29d8-2868-4edb-e4c8-9e83a22c33ee"
      },
      "execution_count": null,
      "outputs": [
        {
          "output_type": "stream",
          "name": "stdout",
          "text": [
            "[[6 0]\n",
            " [0 5]]\n",
            "[[6 0]\n",
            " [0 5]]\n",
            "[[6 0]\n",
            " [1 4]]\n",
            "[[5 1]\n",
            " [1 4]]\n",
            "[[6 0]\n",
            " [2 3]]\n",
            "[[4 2]\n",
            " [1 4]]\n"
          ]
        }
      ]
    },
    {
      "cell_type": "code",
      "source": [
        "plt.scatter(z[:35, 0], z[:35, 1], label='healthy', marker='o')\n",
        "plt.scatter(z[35:, 0], z[35:, 1], label='diseased', marker='x')\n",
        "plt.xlabel('Principal Component 1')\n",
        "plt.ylabel('Principal Component 2')\n",
        "plt.legend()\n",
        "plt.title('PCA Scatter Plot')\n",
        "plt.figure()\n",
        "plt.show()"
      ],
      "metadata": {
        "colab": {
          "base_uri": "https://localhost:8080/",
          "height": 250
        },
        "id": "u77KV4AAwiIW",
        "outputId": "76dfb2d9-9f4c-4eae-e0f6-c19bee843fab"
      },
      "execution_count": null,
      "outputs": [
        {
          "output_type": "error",
          "ename": "NameError",
          "evalue": "ignored",
          "traceback": [
            "\u001b[0;31m---------------------------------------------------------------------------\u001b[0m",
            "\u001b[0;31mNameError\u001b[0m                                 Traceback (most recent call last)",
            "\u001b[0;32m<ipython-input-16-412ab7570e17>\u001b[0m in \u001b[0;36m<cell line: 1>\u001b[0;34m()\u001b[0m\n\u001b[0;32m----> 1\u001b[0;31m \u001b[0mplt\u001b[0m\u001b[0;34m.\u001b[0m\u001b[0mscatter\u001b[0m\u001b[0;34m(\u001b[0m\u001b[0mz\u001b[0m\u001b[0;34m[\u001b[0m\u001b[0;34m:\u001b[0m\u001b[0;36m35\u001b[0m\u001b[0;34m,\u001b[0m \u001b[0;36m0\u001b[0m\u001b[0;34m]\u001b[0m\u001b[0;34m,\u001b[0m \u001b[0mz\u001b[0m\u001b[0;34m[\u001b[0m\u001b[0;34m:\u001b[0m\u001b[0;36m35\u001b[0m\u001b[0;34m,\u001b[0m \u001b[0;36m1\u001b[0m\u001b[0;34m]\u001b[0m\u001b[0;34m,\u001b[0m \u001b[0mlabel\u001b[0m\u001b[0;34m=\u001b[0m\u001b[0;34m'healthy'\u001b[0m\u001b[0;34m,\u001b[0m \u001b[0mmarker\u001b[0m\u001b[0;34m=\u001b[0m\u001b[0;34m'o'\u001b[0m\u001b[0;34m)\u001b[0m\u001b[0;34m\u001b[0m\u001b[0;34m\u001b[0m\u001b[0m\n\u001b[0m\u001b[1;32m      2\u001b[0m \u001b[0mplt\u001b[0m\u001b[0;34m.\u001b[0m\u001b[0mscatter\u001b[0m\u001b[0;34m(\u001b[0m\u001b[0mz\u001b[0m\u001b[0;34m[\u001b[0m\u001b[0;36m35\u001b[0m\u001b[0;34m:\u001b[0m\u001b[0;34m,\u001b[0m \u001b[0;36m0\u001b[0m\u001b[0;34m]\u001b[0m\u001b[0;34m,\u001b[0m \u001b[0mz\u001b[0m\u001b[0;34m[\u001b[0m\u001b[0;36m35\u001b[0m\u001b[0;34m:\u001b[0m\u001b[0;34m,\u001b[0m \u001b[0;36m1\u001b[0m\u001b[0;34m]\u001b[0m\u001b[0;34m,\u001b[0m \u001b[0mlabel\u001b[0m\u001b[0;34m=\u001b[0m\u001b[0;34m'diseased'\u001b[0m\u001b[0;34m,\u001b[0m \u001b[0mmarker\u001b[0m\u001b[0;34m=\u001b[0m\u001b[0;34m'x'\u001b[0m\u001b[0;34m)\u001b[0m\u001b[0;34m\u001b[0m\u001b[0;34m\u001b[0m\u001b[0m\n\u001b[1;32m      3\u001b[0m \u001b[0mplt\u001b[0m\u001b[0;34m.\u001b[0m\u001b[0mxlabel\u001b[0m\u001b[0;34m(\u001b[0m\u001b[0;34m'Principal Component 1'\u001b[0m\u001b[0;34m)\u001b[0m\u001b[0;34m\u001b[0m\u001b[0;34m\u001b[0m\u001b[0m\n\u001b[1;32m      4\u001b[0m \u001b[0mplt\u001b[0m\u001b[0;34m.\u001b[0m\u001b[0mylabel\u001b[0m\u001b[0;34m(\u001b[0m\u001b[0;34m'Principal Component 2'\u001b[0m\u001b[0;34m)\u001b[0m\u001b[0;34m\u001b[0m\u001b[0;34m\u001b[0m\u001b[0m\n\u001b[1;32m      5\u001b[0m \u001b[0mplt\u001b[0m\u001b[0;34m.\u001b[0m\u001b[0mlegend\u001b[0m\u001b[0;34m(\u001b[0m\u001b[0;34m)\u001b[0m\u001b[0;34m\u001b[0m\u001b[0;34m\u001b[0m\u001b[0m\n",
            "\u001b[0;31mNameError\u001b[0m: name 'z' is not defined"
          ]
        }
      ]
    },
    {
      "cell_type": "code",
      "source": [
        "from mpl_toolkits.mplot3d import Axes3D\n",
        "fig = plt.figure()\n",
        "ax = fig.add_subplot(111, projection='3d')\n",
        "\n",
        "plt.scatter(z[:35, 0], z[:35, 1], z[:35, 2], label='healthy', marker='o')\n",
        "plt.scatter(z[35:, 0], z[35:, 1], z[35:, 2], label='diseased', marker='x')\n",
        "ax.set_xlabel('Principal Component 1')\n",
        "ax.set_ylabel('Principal Component 2')\n",
        "ax.set_zlabel('Principal Component 3')\n",
        "plt.legend()\n",
        "plt.title('PCA Scatter Plot')\n",
        "plt.show()\n",
        "#print(z)"
      ],
      "metadata": {
        "id": "qw5-7N-Zv7kA",
        "colab": {
          "base_uri": "https://localhost:8080/",
          "height": 651
        },
        "outputId": "063d3392-6b08-4042-c434-a5d6a029c428"
      },
      "execution_count": null,
      "outputs": [
        {
          "output_type": "error",
          "ename": "NameError",
          "evalue": "ignored",
          "traceback": [
            "\u001b[0;31m---------------------------------------------------------------------------\u001b[0m",
            "\u001b[0;31mNameError\u001b[0m                                 Traceback (most recent call last)",
            "\u001b[0;32m<ipython-input-17-549e2325c922>\u001b[0m in \u001b[0;36m<cell line: 5>\u001b[0;34m()\u001b[0m\n\u001b[1;32m      3\u001b[0m \u001b[0max\u001b[0m \u001b[0;34m=\u001b[0m \u001b[0mfig\u001b[0m\u001b[0;34m.\u001b[0m\u001b[0madd_subplot\u001b[0m\u001b[0;34m(\u001b[0m\u001b[0;36m111\u001b[0m\u001b[0;34m,\u001b[0m \u001b[0mprojection\u001b[0m\u001b[0;34m=\u001b[0m\u001b[0;34m'3d'\u001b[0m\u001b[0;34m)\u001b[0m\u001b[0;34m\u001b[0m\u001b[0;34m\u001b[0m\u001b[0m\n\u001b[1;32m      4\u001b[0m \u001b[0;34m\u001b[0m\u001b[0m\n\u001b[0;32m----> 5\u001b[0;31m \u001b[0mplt\u001b[0m\u001b[0;34m.\u001b[0m\u001b[0mscatter\u001b[0m\u001b[0;34m(\u001b[0m\u001b[0mz\u001b[0m\u001b[0;34m[\u001b[0m\u001b[0;34m:\u001b[0m\u001b[0;36m35\u001b[0m\u001b[0;34m,\u001b[0m \u001b[0;36m0\u001b[0m\u001b[0;34m]\u001b[0m\u001b[0;34m,\u001b[0m \u001b[0mz\u001b[0m\u001b[0;34m[\u001b[0m\u001b[0;34m:\u001b[0m\u001b[0;36m35\u001b[0m\u001b[0;34m,\u001b[0m \u001b[0;36m1\u001b[0m\u001b[0;34m]\u001b[0m\u001b[0;34m,\u001b[0m \u001b[0mz\u001b[0m\u001b[0;34m[\u001b[0m\u001b[0;34m:\u001b[0m\u001b[0;36m35\u001b[0m\u001b[0;34m,\u001b[0m \u001b[0;36m2\u001b[0m\u001b[0;34m]\u001b[0m\u001b[0;34m,\u001b[0m \u001b[0mlabel\u001b[0m\u001b[0;34m=\u001b[0m\u001b[0;34m'healthy'\u001b[0m\u001b[0;34m,\u001b[0m \u001b[0mmarker\u001b[0m\u001b[0;34m=\u001b[0m\u001b[0;34m'o'\u001b[0m\u001b[0;34m)\u001b[0m\u001b[0;34m\u001b[0m\u001b[0;34m\u001b[0m\u001b[0m\n\u001b[0m\u001b[1;32m      6\u001b[0m \u001b[0mplt\u001b[0m\u001b[0;34m.\u001b[0m\u001b[0mscatter\u001b[0m\u001b[0;34m(\u001b[0m\u001b[0mz\u001b[0m\u001b[0;34m[\u001b[0m\u001b[0;36m35\u001b[0m\u001b[0;34m:\u001b[0m\u001b[0;34m,\u001b[0m \u001b[0;36m0\u001b[0m\u001b[0;34m]\u001b[0m\u001b[0;34m,\u001b[0m \u001b[0mz\u001b[0m\u001b[0;34m[\u001b[0m\u001b[0;36m35\u001b[0m\u001b[0;34m:\u001b[0m\u001b[0;34m,\u001b[0m \u001b[0;36m1\u001b[0m\u001b[0;34m]\u001b[0m\u001b[0;34m,\u001b[0m \u001b[0mz\u001b[0m\u001b[0;34m[\u001b[0m\u001b[0;36m35\u001b[0m\u001b[0;34m:\u001b[0m\u001b[0;34m,\u001b[0m \u001b[0;36m2\u001b[0m\u001b[0;34m]\u001b[0m\u001b[0;34m,\u001b[0m \u001b[0mlabel\u001b[0m\u001b[0;34m=\u001b[0m\u001b[0;34m'diseased'\u001b[0m\u001b[0;34m,\u001b[0m \u001b[0mmarker\u001b[0m\u001b[0;34m=\u001b[0m\u001b[0;34m'x'\u001b[0m\u001b[0;34m)\u001b[0m\u001b[0;34m\u001b[0m\u001b[0;34m\u001b[0m\u001b[0m\n\u001b[1;32m      7\u001b[0m \u001b[0max\u001b[0m\u001b[0;34m.\u001b[0m\u001b[0mset_xlabel\u001b[0m\u001b[0;34m(\u001b[0m\u001b[0;34m'Principal Component 1'\u001b[0m\u001b[0;34m)\u001b[0m\u001b[0;34m\u001b[0m\u001b[0;34m\u001b[0m\u001b[0m\n",
            "\u001b[0;31mNameError\u001b[0m: name 'z' is not defined"
          ]
        },
        {
          "output_type": "display_data",
          "data": {
            "text/plain": [
              "<Figure size 640x480 with 1 Axes>"
            ],
            "image/png": "[encoded data removed]"
          },
          "metadata": {}
        }
      ]
    },
    {
      "cell_type": "code",
      "source": [
        "from sklearn.preprocessing import StandardScaler\n",
        "import numpy as np\n",
        "scaler = StandardScaler()\n",
        "scaler.fit(df_copy)\n",
        "scaled = pca.transform(df_copy)\n",
        "pca_copy = PCA(n_components = 18)\n",
        "pca_copy.fit(scaled)\n",
        "scaled_z = pca_copy.transform(scaled)\n",
        "plt.plot(np.cumsum(pca_copy.explained_variance_ratio_ * 100))\n",
        "plt.xlabel(\"Number of Features\")\n",
        "plt.ylabel(\"Explained Variance (%)\")\n",
        "plt.title(\"Retained Information vs. Number of Features Being Tested\")"
      ],
      "metadata": {
        "id": "NEoABJZ2AuzH",
        "colab": {
          "base_uri": "https://localhost:8080/",
          "height": 250
        },
        "outputId": "49618c22-7d8b-4678-95c8-97d65d6775ce"
      },
      "execution_count": null,
      "outputs": [
        {
          "output_type": "error",
          "ename": "NameError",
          "evalue": "ignored",
          "traceback": [
            "\u001b[0;31m---------------------------------------------------------------------------\u001b[0m",
            "\u001b[0;31mNameError\u001b[0m                                 Traceback (most recent call last)",
            "\u001b[0;32m<ipython-input-18-13f7d3253e05>\u001b[0m in \u001b[0;36m<cell line: 4>\u001b[0;34m()\u001b[0m\n\u001b[1;32m      2\u001b[0m \u001b[0;32mimport\u001b[0m \u001b[0mnumpy\u001b[0m \u001b[0;32mas\u001b[0m \u001b[0mnp\u001b[0m\u001b[0;34m\u001b[0m\u001b[0;34m\u001b[0m\u001b[0m\n\u001b[1;32m      3\u001b[0m \u001b[0mscaler\u001b[0m \u001b[0;34m=\u001b[0m \u001b[0mStandardScaler\u001b[0m\u001b[0;34m(\u001b[0m\u001b[0;34m)\u001b[0m\u001b[0;34m\u001b[0m\u001b[0;34m\u001b[0m\u001b[0m\n\u001b[0;32m----> 4\u001b[0;31m \u001b[0mscaler\u001b[0m\u001b[0;34m.\u001b[0m\u001b[0mfit\u001b[0m\u001b[0;34m(\u001b[0m\u001b[0mdf_copy\u001b[0m\u001b[0;34m)\u001b[0m\u001b[0;34m\u001b[0m\u001b[0;34m\u001b[0m\u001b[0m\n\u001b[0m\u001b[1;32m      5\u001b[0m \u001b[0mscaled\u001b[0m \u001b[0;34m=\u001b[0m \u001b[0mpca\u001b[0m\u001b[0;34m.\u001b[0m\u001b[0mtransform\u001b[0m\u001b[0;34m(\u001b[0m\u001b[0mdf_copy\u001b[0m\u001b[0;34m)\u001b[0m\u001b[0;34m\u001b[0m\u001b[0;34m\u001b[0m\u001b[0m\n\u001b[1;32m      6\u001b[0m \u001b[0mpca_copy\u001b[0m \u001b[0;34m=\u001b[0m \u001b[0mPCA\u001b[0m\u001b[0;34m(\u001b[0m\u001b[0mn_components\u001b[0m \u001b[0;34m=\u001b[0m \u001b[0;36m18\u001b[0m\u001b[0;34m)\u001b[0m\u001b[0;34m\u001b[0m\u001b[0;34m\u001b[0m\u001b[0m\n",
            "\u001b[0;31mNameError\u001b[0m: name 'df_copy' is not defined"
          ]
        }
      ]
    },
    {
      "cell_type": "code",
      "source": [
        "array = df.values\n",
        "print(array)\n",
        "X = array[:,0:18]\n",
        "y = array[:,18]\n",
        "print(X, y)\n",
        "X_train, X_validation, Y_train, Y_validation = train_test_split(X, y, test_size=0.20, random_state=1,stratify=y)"
      ],
      "metadata": {
        "id": "yrKBNzZeZfjb",
        "colab": {
          "base_uri": "https://localhost:8080/"
        },
        "outputId": "58b6a0e1-8f10-44ad-ab8d-02bc3d225c8d"
      },
      "execution_count": null,
      "outputs": [
        {
          "output_type": "stream",
          "name": "stdout",
          "text": [
            "[[ 2.06485010e-06  2.64222155e-01 -1.46840388e-01 ...  4.87000000e+01\n",
            "   1.00700000e+02  0.00000000e+00]\n",
            " [-4.24779376e-04  3.49692395e-01 -6.03335390e-02 ...  4.85555556e+01\n",
            "   1.06444444e+02  0.00000000e+00]\n",
            " [-2.07370663e-05  3.44289162e-01 -7.54469131e-02 ...  4.47777778e+01\n",
            "   1.06900000e+02  0.00000000e+00]\n",
            " ...\n",
            " [ 7.44500602e-05  3.82084802e-01 -7.43655550e-02 ...  5.66250000e+01\n",
            "   1.03875000e+02  1.00000000e+00]\n",
            " [ 5.18585468e-04  3.57990261e-01 -5.65807696e-02 ...  5.38750000e+01\n",
            "   1.06666667e+02  1.00000000e+00]\n",
            " [ 2.53939057e-04  2.55349044e-01 -1.26784634e-01 ...  5.77500000e+01\n",
            "   9.46250000e+01  1.00000000e+00]]\n",
            "[[ 2.06485010e-06  2.64222155e-01 -1.46840388e-01  5.22176162e-02\n",
            "   1.06429134e+01  1.24721913e+01  9.70000000e+02  9.33333333e+02\n",
            "   1.00000000e+01  3.53614899e-05  4.07856690e-03  1.15339227e+02\n",
            "   4.11408677e-03  6.29923017e+01  2.14000000e+01  4.29000000e+01\n",
            "   4.87000000e+01  1.00700000e+02]\n",
            " [-4.24779376e-04  3.49692395e-01 -6.03335390e-02  5.70120735e-02\n",
            "   7.31328428e+01  9.68717037e+01  1.13666667e+03  9.26666667e+02\n",
            "   9.58333333e+01  2.76572573e-05  3.19915738e-03  1.15671534e+02\n",
            "   3.22697798e-03  5.80560908e+01  2.96666667e+01  3.60000000e+01\n",
            "   4.85555556e+01  1.06444444e+02]\n",
            " [-2.07370663e-05  3.44289162e-01 -7.54469131e-02  5.72687848e-02\n",
            "   1.79849045e+01  2.05142227e+01  1.01333333e+03  9.60000000e+02\n",
            "   2.00000000e+01  9.75725886e-06  2.71682542e-03  2.78441461e+02\n",
            "   2.72667903e-03  6.06448049e+01  1.82000000e+01  4.92000000e+01\n",
            "   4.47777778e+01  1.06900000e+02]\n",
            " [ 1.07087284e-03  2.70231909e-01 -9.32097584e-02  5.43378199e-02\n",
            "   1.82795354e+01  1.76383421e+01  8.26666667e+02  7.70000000e+02\n",
            "   2.66666667e+01  2.73006898e-05  4.46511665e-03  1.63553254e+02\n",
            "   4.49247065e-03  7.51752727e+01  3.45833333e+01  2.69166667e+01\n",
            "   4.14166667e+01  9.50833333e+01]\n",
            " [ 2.57693089e-04  3.37483634e-01 -4.27191795e-02  5.67557237e-02\n",
            "   4.95660178e+01  5.73246117e+01  9.40000000e+02  8.03333333e+02\n",
            "   8.33333333e+01  2.03349404e-05  2.04475182e-03  1.00553618e+02\n",
            "   2.06520674e-03  6.83290731e+01  3.23000000e+01  3.52000000e+01\n",
            "   3.44000000e+01  1.06800000e+02]\n",
            " [ 5.02552085e-04  3.89114177e-01 -5.09613337e-02  6.27117532e-02\n",
            "   3.79823476e+01  5.65685425e+01  1.08000000e+03  9.76666667e+02\n",
            "   6.33333333e+01  3.27362888e-05  3.75760340e-03  1.14784037e+02\n",
            "   3.79046562e-03  5.81495303e+01  3.00000000e+01  2.87777778e+01\n",
            "   5.05555556e+01  9.82222222e+01]\n",
            " [ 5.55019500e-04  3.61437670e-01 -5.15211066e-02  6.32010061e-02\n",
            "   1.92048734e+01  2.74620951e+01  9.83333333e+02  9.23333333e+02\n",
            "   2.00000000e+01  3.69444136e-05  4.61259182e-03  1.24852214e+02\n",
            "   4.64969776e-03  6.27867864e+01  2.93000000e+01  3.11000000e+01\n",
            "   4.54000000e+01  9.78000000e+01]\n",
            " [ 1.12577179e-03  2.72433193e-01 -1.47106771e-01  8.14178201e-02\n",
            "   2.45356883e+02  2.35409808e+02  1.01333333e+03  4.23333333e+02\n",
            "   4.88333333e+02  1.16460679e-03  5.18264365e-03  4.45012316e+00\n",
            "   6.34893100e-03  9.04111483e+01  3.89090909e+01  2.60000000e+01\n",
            "   4.01818182e+01  8.90909091e+01]\n",
            " [-1.17975393e-03  3.49786706e-01 -7.70298112e-02  6.28447107e-02\n",
            "   1.04083300e+01  1.34886784e+01  9.86666667e+02  9.56666667e+02\n",
            "   1.33333333e+01  1.76627439e-05  4.53851165e-03  2.56953940e+02\n",
            "   4.55636446e-03  6.15090549e+01  2.89000000e+01  3.17000000e+01\n",
            "   4.12000000e+01  1.03000000e+02]\n",
            " [-2.07522935e-04  3.76519846e-01 -1.06697735e-01  6.64271922e-02\n",
            "   8.08222683e+01  3.30594811e+01  8.80000000e+02  6.40000000e+02\n",
            "   1.03333333e+02  1.12482883e-05  8.04666855e-04  7.15368274e+01\n",
            "   8.15966397e-04  8.32262295e+01  3.15384615e+01  2.43846154e+01\n",
            "   3.01538462e+01  8.86153846e+01]\n",
            " [ 4.59570882e-05  3.08876509e-01 -6.27539705e-02  5.62064494e-02\n",
            "   5.28216192e+01  5.63717818e+01  1.00000000e+03  8.30000000e+02\n",
            "   7.75000000e+01  3.84032508e-06  1.02228999e-03  2.66198817e+02\n",
            "   1.02614091e-03  6.61161805e+01  1.94545455e+01  3.90909091e+01\n",
            "   4.30909091e+01  9.80909091e+01]\n",
            " [-1.57740025e-03  4.36473372e-01 -2.04925534e-01  7.77989076e-02\n",
            "   3.37349542e+01  3.28756457e+01  8.53333333e+02  7.40000000e+02\n",
            "   4.25000000e+01  2.16268374e-05  3.25699695e-03  1.50599780e+02\n",
            "   3.27865268e-03  7.52192426e+01  3.94615385e+01  2.73846154e+01\n",
            "   4.15833333e+01  1.00384615e+02]\n",
            " [ 9.04926078e-04  2.66586198e-01 -1.31643823e-01  5.61232746e-02\n",
            "   1.06101985e+01  8.72171864e+00  6.76666667e+02  6.33333333e+02\n",
            "   1.25000000e+01  7.24851359e-04  1.23757062e-02  1.70734400e+01\n",
            "   1.31018306e-02  9.17907759e+01  2.09333333e+01  3.02000000e+01\n",
            "   4.86000000e+01  8.98000000e+01]\n",
            " [-2.87837250e-04  2.07842904e-01 -6.73812603e-02  3.62978048e-02\n",
            "   2.44312407e+01  2.21108319e+01  8.16666667e+02  7.26666667e+02\n",
            "   3.41666667e+01  1.21144096e-04  1.12382000e-02  9.27672118e+01\n",
            "   1.13594682e-02  7.85267677e+01  6.04615385e+01  1.04444444e+01\n",
            "   4.79166667e+01  9.21000000e+01]\n",
            " [-1.16071403e-03  4.11592116e-01 -7.87365943e-02  7.98230395e-02\n",
            "   1.45394639e+01  1.32287566e+01  7.23333333e+02  6.70000000e+02\n",
            "   1.66666667e+01  8.67309255e-05  4.63837731e-03  5.34800855e+01\n",
            "   4.72530425e-03  8.66670894e+01  2.72857143e+01  3.22857143e+01\n",
            "   3.81428571e+01  9.72142857e+01]\n",
            " [ 5.15369908e-04  3.65398424e-01 -7.28392908e-02  5.97868578e-02\n",
            "   1.35172501e+01  1.72803678e+01  9.80000000e+02  9.33333333e+02\n",
            "   6.66666667e+00  9.04471779e-05  6.59453856e-03  7.29103850e+01\n",
            "   6.68523877e-03  6.29960832e+01  2.16000000e+01  4.27000000e+01\n",
            "   4.74000000e+01  1.06200000e+02]\n",
            " [ 1.19596319e-04  4.51376210e-01 -6.31854683e-02  8.09301649e-02\n",
            "   2.56195948e+01  2.66249674e+01  8.70000000e+02  7.83333333e+02\n",
            "   3.16666667e+01  3.78717485e-05  6.33859007e-03  1.67369882e+02\n",
            "   6.37665187e-03  7.36657585e+01  4.45000000e+01  4.83333333e+00\n",
            "   4.77500000e+01  5.97500000e+01]\n",
            " [ 5.50977941e-04  3.23635895e-01 -5.85263098e-02  5.42494278e-02\n",
            "   1.68325082e+01  1.68325082e+01  9.60000000e+02  9.06666667e+02\n",
            "   1.66666667e+01  1.31054309e-05  1.14076303e-03  8.70450610e+01\n",
            "   1.15388680e-03  6.38463896e+01  4.77000000e+01  2.86000000e+01\n",
            "   3.49000000e+01  1.19300000e+02]\n",
            " [ 1.80467895e-04  3.82238587e-01 -5.71335281e-02  6.43619890e-02\n",
            "   2.52662589e+01  2.94014361e+01  8.13333333e+02  7.50000000e+02\n",
            "   4.50000000e+01  3.14153197e-05  5.62550040e-03  1.79068698e+02\n",
            "   5.65701587e-03  7.61322190e+01  2.39166667e+01  3.60833333e+01\n",
            "   4.46666667e+01  9.30000000e+01]\n",
            " [-8.85083963e-04  3.08134747e-01 -1.15070046e-01  6.10876168e-02\n",
            "   4.30173666e+01  4.71535448e+01  9.70000000e+02  8.23333333e+02\n",
            "   1.91666667e+01  7.99847335e-05  5.96164931e-03  7.45348400e+01\n",
            "   6.04221685e-03  6.39287140e+01  3.40909091e+01  4.16363636e+01\n",
            "   3.58181818e+01  1.16272727e+02]\n",
            " [-4.37013977e-05  3.61450219e-01 -7.25886486e-02  7.26789263e-02\n",
            "   8.00123447e+01  8.58436707e+01  1.02000000e+03  7.63333333e+02\n",
            "   9.50000000e+01  5.55960919e-06  1.59866322e-03  2.87549568e+02\n",
            "   1.60424204e-03  6.69119572e+01  2.17272727e+01  4.48181818e+01\n",
            "   4.47272727e+01  1.03363636e+02]\n",
            " [-1.88028150e-04  3.04207158e-01 -9.26288228e-02  5.21792287e-02\n",
            "   3.20218180e+01  3.63405410e+01  1.04666667e+03  9.46666667e+02\n",
            "   3.83333333e+01  8.45068677e-06  1.02414623e-03  1.21190888e+02\n",
            "   1.03262520e-03  6.02492874e+01  1.81111111e+01  4.30000000e+01\n",
            "   3.38888889e+01  9.66666667e+01]\n",
            " [ 1.58926295e-04  3.20976061e-01 -6.81304814e-02  5.78070121e-02\n",
            "   1.98637333e+01  2.61052003e+01  9.23333333e+02  8.63333333e+02\n",
            "   2.33333333e+01  1.94486517e-05  5.06003548e-03  2.60174101e+02\n",
            "   5.07965371e-03  6.71414631e+01  2.37272727e+01  3.73636364e+01\n",
            "   3.79090909e+01  9.29090909e+01]\n",
            " [-1.09473643e-03  2.19138577e-01 -1.62029075e-01  6.73467762e-02\n",
            "   7.10133877e+01  8.32666400e+01  1.09000000e+03  8.56666667e+02\n",
            "   8.00000000e+01  2.46373055e-05  6.77922386e-03  2.75160929e+02\n",
            "   6.80424360e-03  6.08442779e+01  2.11000000e+01  4.61000000e+01\n",
            "   4.45000000e+01  1.05800000e+02]\n",
            " [-7.72964542e-06  3.53091459e-01 -7.42769042e-02  6.05936447e-02\n",
            "   5.20446152e+01  8.22522468e+01  9.66666667e+02  7.96666667e+02\n",
            "   5.58333333e+01  8.20456125e-05  1.68717335e-02  2.05638461e+02\n",
            "   1.69546408e-02  6.73539727e+01  1.99090909e+01  3.60000000e+01\n",
            "   3.88181818e+01  9.06363636e+01]\n",
            " [ 1.27360517e-03  3.52748227e-01 -1.13705033e-01  6.44936110e-02\n",
            "   4.78262028e+01  6.98013053e+01  9.90000000e+02  8.40000000e+02\n",
            "   6.66666667e+01  2.19506189e-04  1.70011373e-02  7.74517448e+01\n",
            "   1.72217667e-02  6.44418484e+01  2.03000000e+01  3.55000000e+01\n",
            "   5.18000000e+01  9.94000000e+01]\n",
            " [ 4.60766591e-04  2.55866637e-01 -5.13534642e-02  4.14023218e-02\n",
            "   1.65402614e+01  1.44016460e+01  8.76666667e+02  8.26666667e+02\n",
            "   2.33333333e+01  5.44417457e-05  2.78081923e-03  5.10788036e+01\n",
            "   2.83536339e-03  7.05546287e+01  4.00000000e+01  1.56363636e+01\n",
            "   3.85454545e+01  8.75454545e+01]\n",
            " [-7.60887798e-04  1.38429783e-01 -2.56660746e-01  5.27723339e-02\n",
            "   1.92930615e+01  2.76134025e+01  9.33333333e+02  8.76666667e+02\n",
            "   3.00000000e+01  7.62029892e-05  7.14252875e-03  9.37302962e+01\n",
            "   7.21921751e-03  6.59580240e+01  3.24000000e+01  4.69000000e+01\n",
            "   2.76000000e+01  1.17600000e+02]\n",
            " [-4.38679907e-04  3.51202669e-01 -5.68991209e-02  5.86461111e-02\n",
            "   3.98405915e+01  5.92640044e+01  8.73333333e+02  7.36666667e+02\n",
            "   3.33333333e+01  1.45856042e-04  1.61666281e-02  1.10839618e+02\n",
            "   1.63127247e-02  7.47320436e+01  3.76666667e+01  2.15000000e+01\n",
            "   3.58333333e+01  8.02500000e+01]\n",
            " [ 1.11900647e-05  2.64660126e-01 -1.80575354e-01  7.64447648e-02\n",
            "   4.09976595e+01  3.83695481e+01  9.13333333e+02  7.63333333e+02\n",
            "   3.66666667e+01  9.96484962e-06  1.89124428e-03  1.89791552e+02\n",
            "   1.90124963e-03  7.11613385e+01  2.56666667e+01  3.30833333e+01\n",
            "   4.36363636e+01  9.73333333e+01]\n",
            " [ 8.92462160e-04  3.87280186e-01 -8.68810979e-02  5.67213576e-02\n",
            "   2.71961326e+01  3.92428337e+01  1.36000000e+03  1.28333333e+03\n",
            "   2.66666667e+01  6.68015697e-05  2.75044782e-03  4.11734010e+01\n",
            "   2.81742196e-03  4.54491432e+01  5.18571429e+01  2.61428571e+01\n",
            "   6.32857143e+01  1.27000000e+02]\n",
            " [ 2.98665645e-04  3.21813418e-01 -5.72831954e-02  4.97331123e-02\n",
            "   1.65651671e+01  2.63673680e+01  1.20000000e+03  1.15333333e+03\n",
            "   1.83333333e+01  2.18518937e-05  5.67526411e-03  2.59714979e+02\n",
            "   5.69720159e-03  5.08732888e+01  3.24444444e+01  2.26250000e+01\n",
            "   6.11250000e+01  1.14555556e+02]\n",
            " [-1.31499616e-03  2.61156583e-01 -2.49437393e-01  5.19758163e-02\n",
            "   3.95209408e+01  3.98210282e+01  1.17666667e+03  1.06333333e+03\n",
            "   5.75000000e+01  9.84426499e-06  2.04510111e-03  2.07745434e+02\n",
            "   2.05497699e-03  5.33058767e+01  1.36666667e+01  4.45555556e+01\n",
            "   6.48750000e+01  9.83333333e+01]\n",
            " [ 4.33715249e-03  6.15740121e-01 -1.17782246e-01  9.66912498e-02\n",
            "   2.00923792e+01  2.84149152e+01  1.22000000e+03  1.15666667e+03\n",
            "   1.83333333e+01  2.59969057e-05  3.35730463e-03  1.29142471e+02\n",
            "   3.38338039e-03  5.05726389e+01  4.88571429e+01  2.25000000e+01\n",
            "   4.64285714e+01  7.87500000e+01]\n",
            " [-8.14441283e-04  3.00498701e-01 -1.34072783e-01  4.55228616e-02\n",
            "   2.47141685e+02  2.34952714e+02  1.11333333e+03  4.63333333e+02\n",
            "   1.66666667e+01  4.70631319e-05  7.85829968e-03  1.66973581e+02\n",
            "   7.90549474e-03  5.44033623e+01  1.96000000e+01  3.21111111e+01\n",
            "   4.91111111e+01  8.58000000e+01]\n",
            " [ 1.50514726e-03  3.56708787e-01 -6.74608853e-02  6.65600978e-02\n",
            "   3.28295260e+01  4.88573130e+01  1.23333333e+03  1.14333333e+03\n",
            "   4.16666667e+01  7.47956499e-05  9.82618006e-03  1.31373684e+02\n",
            "   9.90122474e-03  5.00244483e+01  2.00000000e+01  4.16250000e+01\n",
            "   4.98750000e+01  1.03750000e+02]\n",
            " [-1.33613653e-03  4.98834992e-01 -2.13423684e-01  9.12485673e-02\n",
            "   3.06542418e+01  4.76595066e+01  1.17666667e+03  1.08666667e+03\n",
            "   4.00000000e+01  1.28078134e-05  3.35045826e-03  2.61594868e+02\n",
            "   3.36334008e-03  5.35974950e+01  3.86666667e+01  4.05555556e+01\n",
            "   6.37777778e+01  1.27555556e+02]\n",
            " [ 7.48211091e-04  4.04735382e-01 -2.24394758e-01  9.02670673e-02\n",
            "   1.98606255e+01  2.43584345e+01  1.23666667e+03  1.18666667e+03\n",
            "   2.16666667e+01  2.00291021e-05  8.99785562e-04  4.49239091e+01\n",
            "   9.19882173e-04  4.91226486e+01  1.97142857e+01  3.47142857e+01\n",
            "   4.58571429e+01  9.80000000e+01]\n",
            " [-8.00347027e-05  3.78563718e-01 -6.54745914e-02  6.18840327e-02\n",
            "   1.34715063e+01  1.19412140e+01  1.28666667e+03  1.25000000e+03\n",
            "   1.66666667e+01  5.63634158e-06  5.86874838e-04  1.04123363e+02\n",
            "   5.92526382e-04  4.73724409e+01  3.17500000e+01  3.62500000e+01\n",
            "   5.55714286e+01  1.09500000e+02]\n",
            " [ 1.15141136e-03  3.84664114e-01 -7.03766753e-02  5.39993371e-02\n",
            "   3.93170870e+01  4.32966878e+01  1.13000000e+03  1.00333333e+03\n",
            "   1.16666667e+01  8.19142837e-05  4.77898445e-03  5.83412835e+01\n",
            "   4.86113778e-03  5.47075073e+01  2.48888889e+01  3.91111111e+01\n",
            "   4.88888889e+01  1.00444444e+02]\n",
            " [ 6.29980911e-04  3.82361958e-01 -1.10852617e-01  9.53204116e-02\n",
            "   2.46992492e+01  1.73738842e+01  1.15333333e+03  1.09333333e+03\n",
            "   3.33333333e+01  7.89491824e-06  7.86299707e-04  9.95956744e+01\n",
            "   7.94225655e-04  5.36363739e+01  3.75000000e+01  2.73750000e+01\n",
            "   4.68750000e+01  1.04500000e+02]\n",
            " [-3.00762534e-04  3.40088508e-01 -8.02861502e-02  5.03872080e-02\n",
            "   2.25319389e+02  2.68250505e+02  1.12000000e+03  4.76666667e+02\n",
            "   9.33333333e+01  5.30067645e-04  1.20133753e-02  2.26638532e+01\n",
            "   1.25445482e-02  5.73162154e+01  4.45000000e+01  1.22000000e+01\n",
            "   4.46000000e+01  7.83000000e+01]\n",
            " [ 1.02657751e-03  2.33947827e-01 -4.09815772e-01  8.82948304e-02\n",
            "   4.75407094e+01  4.93770720e+01  1.26333333e+03  1.11666667e+03\n",
            "   5.50000000e+01  3.27578003e-05  7.80647616e-03  2.38308924e+02\n",
            "   7.83935333e-03  5.15479154e+01  1.14444444e+01  4.33333333e+00\n",
            "   6.08888889e+01  8.00000000e+01]\n",
            " [-1.30225318e-03  3.13049472e-01 -9.14797768e-02  5.84683325e-02\n",
            "   1.29636243e+01  1.61343565e+01  1.11000000e+03  1.07333333e+03\n",
            "   1.66666667e+01  1.66928070e-05  1.88439126e-03  1.12886422e+02\n",
            "   1.90114148e-03  5.51573472e+01  3.73333333e+01  2.74444444e+01\n",
            "   4.10000000e+01  1.11888889e+02]\n",
            " [ 6.86733176e-04  2.08285679e-01 -3.89353665e-01  6.82102933e-02\n",
            "   2.87477627e+02  3.76828874e+02  1.40666667e+03  6.53333333e+02\n",
            "   2.53333333e+02  6.79763172e-05  2.82626966e-03  4.15772694e+01\n",
            "   2.89441772e-03  5.95792268e+01  3.37500000e+01  5.47500000e+01\n",
            "   5.57500000e+01  1.25250000e+02]\n",
            " [ 2.82609474e-04  1.72847221e-01 -5.25414122e-02  2.64197454e-02\n",
            "   4.65668789e+02  5.22120220e+02  1.49666667e+03  4.30000000e+02\n",
            "   8.74166667e+02  4.53082208e-05  4.07922255e-03  9.00327242e+01\n",
            "   4.12468068e-03  7.80525118e+01  6.64444444e+01  1.54285714e+01\n",
            "   3.17142857e+01  9.00000000e+01]\n",
            " [ 9.01228536e-04  2.98348530e-01 -6.16647859e-02  4.70057378e-02\n",
            "   3.21917617e+01  3.82763552e+01  1.17000000e+03  1.07333333e+03\n",
            "   3.41666667e+01  6.28997485e-06  1.58889893e-03  2.52608153e+02\n",
            "   1.59523054e-03  5.34664614e+01  1.70000000e+01  4.86250000e+01\n",
            "   4.77142857e+01  1.07555556e+02]\n",
            " [-3.31788369e-03  1.83254119e-01 -4.77287946e-01  5.77210271e-02\n",
            "   3.19722102e+01  5.00185151e+01  1.22666667e+03  1.14000000e+03\n",
            "   4.66666667e+01  2.40928355e-05  3.07568641e-03  1.27659793e+02\n",
            "   3.09984873e-03  5.04431802e+01  4.45000000e+01  2.47142857e+01\n",
            "   6.57142857e+01  1.10000000e+02]\n",
            " [-1.29795221e-04  3.48236828e-01 -2.27566939e-01  7.25093618e-02\n",
            "   1.53788145e+01  2.18157266e+01  1.21666667e+03  1.17666667e+03\n",
            "   2.16666667e+01  9.70692907e-06  1.24241653e-03  1.27992748e+02\n",
            "   1.25214740e-03  5.02054369e+01  2.96250000e+01  3.06250000e+01\n",
            "   7.08750000e+01  9.95000000e+01]\n",
            " [ 4.30765217e-03  5.24468723e-01 -8.68104892e-02  7.34613550e-02\n",
            "   7.52126615e+01  7.04407890e+01  1.17666667e+03  9.46666667e+02\n",
            "   1.03333333e+02  2.15800390e-05  2.37915841e-03  1.10248105e+02\n",
            "   2.40086611e-03  5.63603335e+01  2.77777778e+01  3.30000000e+01\n",
            "   5.25555556e+01  9.73333333e+01]\n",
            " [-2.99411090e-04  3.70421692e-01 -5.18801174e-02  6.16020684e-02\n",
            "   4.92499295e+01  7.49666593e+01  1.40666667e+03  1.28000000e+03\n",
            "   5.91666667e+01  1.09410723e-05  1.66452854e-03  1.52135778e+02\n",
            "   1.67551192e-03  4.42143157e+01  3.74285714e+01  3.07142857e+01\n",
            "   4.47142857e+01  1.11142857e+02]\n",
            " [-1.90082670e-03  3.78959026e-01 -1.11824730e-01  6.81856576e-02\n",
            "   1.88087703e+01  2.62466929e+01  1.12666667e+03  1.07666667e+03\n",
            "   3.33333333e+01  2.42171846e-05  6.22995580e-03  2.57253512e+02\n",
            "   6.25429729e-03  5.42086829e+01  2.24444444e+01  4.55555556e+01\n",
            "   4.83333333e+01  9.97777778e+01]\n",
            " [ 7.44500602e-05  3.82084802e-01 -7.43655550e-02  6.47783485e-02\n",
            "   3.28778403e+01  4.85912658e+01  1.19666667e+03  1.10000000e+03\n",
            "   4.16666667e+01  3.34672314e-05  4.54638033e-03  1.35845726e+02\n",
            "   4.57998128e-03  5.22689410e+01  2.17500000e+01  4.26250000e+01\n",
            "   5.66250000e+01  1.03875000e+02]\n",
            " [ 5.18585468e-04  3.57990261e-01 -5.65807696e-02  6.79161961e-02\n",
            "   1.86870637e+01  1.79947082e+01  1.17000000e+03  1.11666667e+03\n",
            "   2.25000000e+01  6.96185558e-06  3.39090510e-04  4.87069153e+01\n",
            "   3.46080638e-04  5.25656593e+01  3.36666667e+01  3.48750000e+01\n",
            "   5.38750000e+01  1.06666667e+02]\n",
            " [ 2.53939057e-04  2.55349044e-01 -1.26784634e-01  4.67236191e-02\n",
            "   7.28446924e+01  9.62827626e+01  1.25000000e+03  1.04333333e+03\n",
            "   8.83333333e+01  1.26890871e-05  1.83847731e-03  1.44886491e+02\n",
            "   1.85121710e-03  5.33732472e+01  1.97500000e+01  4.05000000e+01\n",
            "   5.77500000e+01  9.46250000e+01]] [0. 0. 0. 0. 0. 0. 0. 0. 0. 0. 0. 0. 0. 0. 0. 0. 0. 0. 0. 0. 0. 0. 0. 0.\n",
            " 0. 0. 0. 0. 0. 0. 1. 1. 1. 1. 1. 1. 1. 1. 1. 1. 1. 1. 1. 1. 1. 1. 1. 1.\n",
            " 1. 1. 1. 1. 1. 1. 1.]\n"
          ]
        }
      ]
    }
  ]
}